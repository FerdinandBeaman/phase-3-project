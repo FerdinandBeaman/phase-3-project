{
 "cells": [
  {
   "cell_type": "markdown",
   "metadata": {},
   "source": [
    "In my limited experience with other humans, I have learned that there are some things that have the capacity to tell you more about a them than what you'd think at face value. The amount of bumper stickers on someone's car correlates with being an aggressor on the road ([citation](https://pemco.com/blog/bumper-stickers-linked-to-road-rage#:~:text=They%20observed%20that%20road%20rage,than%20vehicle%20value%20or%20condition.)). Your political party correlates with markers for empathy, or how you might see authority. If you feel emotional about the statement \"the Earth is round\". \n",
    "\n",
    "But, anecdotally, \"Do you believe in god?\" tends to be most interesting. Even if people usually feel strange about the person who is asking them. But what if you could make a reasonable guess about someone's religious beliefs based on everything else they say? You may be able to unlock ways of communicating, persuading, or advertising to that person. For example, it's well known that in The United States a lot of people vote in religious blocks. It could be quite profitable to tell beforehand who someone would go to the booths for if motivated to get off the couch.\n",
    "\n",
    "The World Values Survey asks thousands of people a barrage of questions ranging from their feelings on the news to how afraid they are walking down the street. They describe themselves as \"an international research program devoted to the scientific and academic study of social, political, economic, religious and cultural values of people in the world.\" Thankfully, for our purposes, they also ask the god question.\n",
    "\n",
    "My goal will be to see if I can correctly categorize someone as either an atheist or a theist based on the other answers to this survey."
   ]
  },
  {
   "cell_type": "markdown",
   "metadata": {},
   "source": [
    "# The Data\n",
    "All the data comes from https://www.worldvaluessurvey.org/\n",
    "\n",
    "They were kind/thorough enough to include a numerically coded version of the survey's answers as well as English text. These will be labeled num_wave and txt_wave respectively."
   ]
  },
  {
   "cell_type": "code",
   "execution_count": 187,
   "metadata": {
    "ExecuteTime": {
     "end_time": "2023-10-05T07:02:09.121731Z",
     "start_time": "2023-10-05T07:02:09.112130Z"
    }
   },
   "outputs": [],
   "source": [
    "import pandas as pd\n",
    "import numpy as np\n",
    "import matplotlib.pyplot as plt\n",
    "\n",
    "from itertools import product\n",
    "\n",
    "from sklearn.metrics import roc_curve, auc\n",
    "from sklearn.impute import SimpleImputer\n",
    "from sklearn.impute import SimpleImputer\n",
    "from sklearn.model_selection import train_test_split\n",
    "from sklearn.linear_model import LogisticRegression\n",
    "from sklearn.model_selection import GridSearchCV\n",
    "from sklearn.metrics import confusion_matrix\n",
    "from sklearn.metrics import ConfusionMatrixDisplay\n",
    "from sklearn.ensemble import GradientBoostingClassifier\n",
    "from sklearn.ensemble import RandomForestClassifier\n",
    "from sklearn.metrics import classification_report\n",
    "from sklearn.metrics import accuracy_score\n",
    "from sklearn import tree\n",
    "\n",
    "import warnings\n",
    "warnings.filterwarnings(\"ignore\")"
   ]
  },
  {
   "cell_type": "code",
   "execution_count": 2,
   "metadata": {
    "ExecuteTime": {
     "end_time": "2023-10-04T09:34:36.376050Z",
     "start_time": "2023-10-04T09:34:36.290782Z"
    }
   },
   "outputs": [],
   "source": [
    "# Uploading the numerical version of the data\n",
    "num_wave = pd.read_csv(\"wave_7_num.csv\", sep =  \";\")"
   ]
  },
  {
   "cell_type": "code",
   "execution_count": 3,
   "metadata": {
    "ExecuteTime": {
     "end_time": "2023-10-04T09:34:36.559415Z",
     "start_time": "2023-10-04T09:34:36.376982Z"
    }
   },
   "outputs": [],
   "source": [
    "# Uploading the text version of the data\n",
    "# This project would be impossible without the translations it'll provide\n",
    "txt_wave = pd.read_csv(\"wave_7_txt.csv\", sep=\";\")"
   ]
  },
  {
   "cell_type": "code",
   "execution_count": 4,
   "metadata": {
    "ExecuteTime": {
     "end_time": "2023-10-04T09:34:36.576685Z",
     "start_time": "2023-10-04T09:34:36.560385Z"
    }
   },
   "outputs": [
    {
     "data": {
      "text/html": [
       "<div>\n",
       "<style scoped>\n",
       "    .dataframe tbody tr th:only-of-type {\n",
       "        vertical-align: middle;\n",
       "    }\n",
       "\n",
       "    .dataframe tbody tr th {\n",
       "        vertical-align: top;\n",
       "    }\n",
       "\n",
       "    .dataframe thead th {\n",
       "        text-align: right;\n",
       "    }\n",
       "</style>\n",
       "<table border=\"1\" class=\"dataframe\">\n",
       "  <thead>\n",
       "    <tr style=\"text-align: right;\">\n",
       "      <th></th>\n",
       "      <th>version</th>\n",
       "      <th>doi</th>\n",
       "      <th>A_YEAR</th>\n",
       "      <th>B_COUNTRY</th>\n",
       "      <th>B_COUNTRY_ALPHA</th>\n",
       "      <th>C_COW_NUM</th>\n",
       "      <th>C_COW_ALPHA</th>\n",
       "      <th>D_INTERVIEW</th>\n",
       "      <th>J_INTDATE</th>\n",
       "      <th>FW_START</th>\n",
       "      <th>...</th>\n",
       "      <th>WEIGHT4A</th>\n",
       "      <th>WEIGHT4B</th>\n",
       "      <th>RESEMAVALBWGT</th>\n",
       "      <th>RESEMAVALWGT</th>\n",
       "      <th>SECVALBWGT</th>\n",
       "      <th>Y001_1</th>\n",
       "      <th>Y001_2</th>\n",
       "      <th>Y001_3</th>\n",
       "      <th>Y001_4</th>\n",
       "      <th>Y001_5</th>\n",
       "    </tr>\n",
       "  </thead>\n",
       "  <tbody>\n",
       "    <tr>\n",
       "      <th>0</th>\n",
       "      <td>1-5-0 (2020-11-16)</td>\n",
       "      <td>doi.org/10.14281/18241.1</td>\n",
       "      <td>2017</td>\n",
       "      <td>840</td>\n",
       "      <td>USA</td>\n",
       "      <td>2</td>\n",
       "      <td>USA</td>\n",
       "      <td>840071622</td>\n",
       "      <td>20170511</td>\n",
       "      <td>201704</td>\n",
       "      <td>...</td>\n",
       "      <td>1.0</td>\n",
       "      <td>1.0</td>\n",
       "      <td>1.0</td>\n",
       "      <td>1.0</td>\n",
       "      <td>1.0</td>\n",
       "      <td>0</td>\n",
       "      <td>0</td>\n",
       "      <td>0</td>\n",
       "      <td>0</td>\n",
       "      <td>0</td>\n",
       "    </tr>\n",
       "    <tr>\n",
       "      <th>1</th>\n",
       "      <td>1-5-0 (2020-11-16)</td>\n",
       "      <td>doi.org/10.14281/18241.1</td>\n",
       "      <td>2017</td>\n",
       "      <td>840</td>\n",
       "      <td>USA</td>\n",
       "      <td>2</td>\n",
       "      <td>USA</td>\n",
       "      <td>840071861</td>\n",
       "      <td>20170504</td>\n",
       "      <td>201704</td>\n",
       "      <td>...</td>\n",
       "      <td>1.0</td>\n",
       "      <td>1.0</td>\n",
       "      <td>1.0</td>\n",
       "      <td>1.0</td>\n",
       "      <td>1.0</td>\n",
       "      <td>1</td>\n",
       "      <td>1</td>\n",
       "      <td>1</td>\n",
       "      <td>1</td>\n",
       "      <td>1</td>\n",
       "    </tr>\n",
       "    <tr>\n",
       "      <th>2</th>\n",
       "      <td>1-5-0 (2020-11-16)</td>\n",
       "      <td>doi.org/10.14281/18241.1</td>\n",
       "      <td>2017</td>\n",
       "      <td>840</td>\n",
       "      <td>USA</td>\n",
       "      <td>2</td>\n",
       "      <td>USA</td>\n",
       "      <td>840072716</td>\n",
       "      <td>20170506</td>\n",
       "      <td>201704</td>\n",
       "      <td>...</td>\n",
       "      <td>1.0</td>\n",
       "      <td>1.0</td>\n",
       "      <td>1.0</td>\n",
       "      <td>1.0</td>\n",
       "      <td>1.0</td>\n",
       "      <td>1</td>\n",
       "      <td>0</td>\n",
       "      <td>1</td>\n",
       "      <td>0</td>\n",
       "      <td>1</td>\n",
       "    </tr>\n",
       "    <tr>\n",
       "      <th>3</th>\n",
       "      <td>1-5-0 (2020-11-16)</td>\n",
       "      <td>doi.org/10.14281/18241.1</td>\n",
       "      <td>2017</td>\n",
       "      <td>840</td>\n",
       "      <td>USA</td>\n",
       "      <td>2</td>\n",
       "      <td>USA</td>\n",
       "      <td>840072218</td>\n",
       "      <td>20170515</td>\n",
       "      <td>201704</td>\n",
       "      <td>...</td>\n",
       "      <td>1.0</td>\n",
       "      <td>1.0</td>\n",
       "      <td>1.0</td>\n",
       "      <td>1.0</td>\n",
       "      <td>1.0</td>\n",
       "      <td>0</td>\n",
       "      <td>0</td>\n",
       "      <td>1</td>\n",
       "      <td>0</td>\n",
       "      <td>0</td>\n",
       "    </tr>\n",
       "    <tr>\n",
       "      <th>4</th>\n",
       "      <td>1-5-0 (2020-11-16)</td>\n",
       "      <td>doi.org/10.14281/18241.1</td>\n",
       "      <td>2017</td>\n",
       "      <td>840</td>\n",
       "      <td>USA</td>\n",
       "      <td>2</td>\n",
       "      <td>USA</td>\n",
       "      <td>840073015</td>\n",
       "      <td>20170501</td>\n",
       "      <td>201704</td>\n",
       "      <td>...</td>\n",
       "      <td>1.0</td>\n",
       "      <td>1.0</td>\n",
       "      <td>1.0</td>\n",
       "      <td>1.0</td>\n",
       "      <td>1.0</td>\n",
       "      <td>0</td>\n",
       "      <td>1</td>\n",
       "      <td>1</td>\n",
       "      <td>0</td>\n",
       "      <td>0</td>\n",
       "    </tr>\n",
       "  </tbody>\n",
       "</table>\n",
       "<p>5 rows × 394 columns</p>\n",
       "</div>"
      ],
      "text/plain": [
       "              version                       doi  A_YEAR  B_COUNTRY  \\\n",
       "0  1-5-0 (2020-11-16)  doi.org/10.14281/18241.1    2017        840   \n",
       "1  1-5-0 (2020-11-16)  doi.org/10.14281/18241.1    2017        840   \n",
       "2  1-5-0 (2020-11-16)  doi.org/10.14281/18241.1    2017        840   \n",
       "3  1-5-0 (2020-11-16)  doi.org/10.14281/18241.1    2017        840   \n",
       "4  1-5-0 (2020-11-16)  doi.org/10.14281/18241.1    2017        840   \n",
       "\n",
       "  B_COUNTRY_ALPHA  C_COW_NUM C_COW_ALPHA  D_INTERVIEW  J_INTDATE  FW_START  \\\n",
       "0             USA          2         USA    840071622   20170511    201704   \n",
       "1             USA          2         USA    840071861   20170504    201704   \n",
       "2             USA          2         USA    840072716   20170506    201704   \n",
       "3             USA          2         USA    840072218   20170515    201704   \n",
       "4             USA          2         USA    840073015   20170501    201704   \n",
       "\n",
       "   ...  WEIGHT4A  WEIGHT4B  RESEMAVALBWGT  RESEMAVALWGT  SECVALBWGT  Y001_1  \\\n",
       "0  ...       1.0       1.0            1.0           1.0         1.0       0   \n",
       "1  ...       1.0       1.0            1.0           1.0         1.0       1   \n",
       "2  ...       1.0       1.0            1.0           1.0         1.0       1   \n",
       "3  ...       1.0       1.0            1.0           1.0         1.0       0   \n",
       "4  ...       1.0       1.0            1.0           1.0         1.0       0   \n",
       "\n",
       "   Y001_2  Y001_3  Y001_4  Y001_5  \n",
       "0       0       0       0       0  \n",
       "1       1       1       1       1  \n",
       "2       0       1       0       1  \n",
       "3       0       1       0       0  \n",
       "4       1       1       0       0  \n",
       "\n",
       "[5 rows x 394 columns]"
      ]
     },
     "execution_count": 4,
     "metadata": {},
     "output_type": "execute_result"
    }
   ],
   "source": [
    "num_wave.head()"
   ]
  },
  {
   "cell_type": "code",
   "execution_count": 5,
   "metadata": {
    "ExecuteTime": {
     "end_time": "2023-10-04T09:34:36.589473Z",
     "start_time": "2023-10-04T09:34:36.577589Z"
    },
    "scrolled": true
   },
   "outputs": [
    {
     "data": {
      "text/html": [
       "<div>\n",
       "<style scoped>\n",
       "    .dataframe tbody tr th:only-of-type {\n",
       "        vertical-align: middle;\n",
       "    }\n",
       "\n",
       "    .dataframe tbody tr th {\n",
       "        vertical-align: top;\n",
       "    }\n",
       "\n",
       "    .dataframe thead th {\n",
       "        text-align: right;\n",
       "    }\n",
       "</style>\n",
       "<table border=\"1\" class=\"dataframe\">\n",
       "  <thead>\n",
       "    <tr style=\"text-align: right;\">\n",
       "      <th></th>\n",
       "      <th>version Version of Data File</th>\n",
       "      <th>doi Digital Object Identifier</th>\n",
       "      <th>A_YEAR Year of survey</th>\n",
       "      <th>B_COUNTRY ISO 3166-1 numeric country code</th>\n",
       "      <th>B_COUNTRY_ALPHA ISO 3166-1 alpha-3 country code</th>\n",
       "      <th>C_COW_NUM CoW country code numeric</th>\n",
       "      <th>C_COW_ALPHA CoW country code alpha</th>\n",
       "      <th>D_INTERVIEW Interview ID</th>\n",
       "      <th>J_INTDATE Date of interview</th>\n",
       "      <th>FW_START Year/month of start-fieldwork</th>\n",
       "      <th>...</th>\n",
       "      <th>WEIGHT4A Overall Secular Values-4: Weight 4a</th>\n",
       "      <th>WEIGHT4B Emancipative Values-4: Weight 4b</th>\n",
       "      <th>RESEMAVALBWGT Weight for Emancipative values</th>\n",
       "      <th>RESEMAVALWGT Weight for Emancipative values</th>\n",
       "      <th>SECVALBWGT Weight for overall secular values Short Version</th>\n",
       "      <th>Y001_1 Materialist/postmaterialist 12-item index: Component 1</th>\n",
       "      <th>Y001_2 Materialist/postmaterialist 12-item index: Component 2</th>\n",
       "      <th>Y001_3 Materialist/postmaterialist 12-item index: Component 3</th>\n",
       "      <th>Y001_4 Materialist/postmaterialist 12-item index: Component 4</th>\n",
       "      <th>Y001_5 Materialist/postmaterialist 12-item index: Component 5</th>\n",
       "    </tr>\n",
       "  </thead>\n",
       "  <tbody>\n",
       "    <tr>\n",
       "      <th>0</th>\n",
       "      <td>1-5-0 (2020-11-16)</td>\n",
       "      <td>doi.org/10.14281/18241.1</td>\n",
       "      <td>2017</td>\n",
       "      <td>United States</td>\n",
       "      <td>USA</td>\n",
       "      <td>United States of America</td>\n",
       "      <td>USA</td>\n",
       "      <td>840071622</td>\n",
       "      <td>20170511</td>\n",
       "      <td>201704</td>\n",
       "      <td>...</td>\n",
       "      <td>Complete</td>\n",
       "      <td>Complete</td>\n",
       "      <td>1.0</td>\n",
       "      <td>1.0</td>\n",
       "      <td>1.0</td>\n",
       "      <td>0</td>\n",
       "      <td>0</td>\n",
       "      <td>0</td>\n",
       "      <td>0</td>\n",
       "      <td>0</td>\n",
       "    </tr>\n",
       "    <tr>\n",
       "      <th>1</th>\n",
       "      <td>1-5-0 (2020-11-16)</td>\n",
       "      <td>doi.org/10.14281/18241.1</td>\n",
       "      <td>2017</td>\n",
       "      <td>United States</td>\n",
       "      <td>USA</td>\n",
       "      <td>United States of America</td>\n",
       "      <td>USA</td>\n",
       "      <td>840071861</td>\n",
       "      <td>20170504</td>\n",
       "      <td>201704</td>\n",
       "      <td>...</td>\n",
       "      <td>Complete</td>\n",
       "      <td>Complete</td>\n",
       "      <td>1.0</td>\n",
       "      <td>1.0</td>\n",
       "      <td>1.0</td>\n",
       "      <td>1</td>\n",
       "      <td>1</td>\n",
       "      <td>1</td>\n",
       "      <td>1</td>\n",
       "      <td>1</td>\n",
       "    </tr>\n",
       "    <tr>\n",
       "      <th>2</th>\n",
       "      <td>1-5-0 (2020-11-16)</td>\n",
       "      <td>doi.org/10.14281/18241.1</td>\n",
       "      <td>2017</td>\n",
       "      <td>United States</td>\n",
       "      <td>USA</td>\n",
       "      <td>United States of America</td>\n",
       "      <td>USA</td>\n",
       "      <td>840072716</td>\n",
       "      <td>20170506</td>\n",
       "      <td>201704</td>\n",
       "      <td>...</td>\n",
       "      <td>Complete</td>\n",
       "      <td>Complete</td>\n",
       "      <td>1.0</td>\n",
       "      <td>1.0</td>\n",
       "      <td>1.0</td>\n",
       "      <td>1</td>\n",
       "      <td>0</td>\n",
       "      <td>1</td>\n",
       "      <td>0</td>\n",
       "      <td>1</td>\n",
       "    </tr>\n",
       "    <tr>\n",
       "      <th>3</th>\n",
       "      <td>1-5-0 (2020-11-16)</td>\n",
       "      <td>doi.org/10.14281/18241.1</td>\n",
       "      <td>2017</td>\n",
       "      <td>United States</td>\n",
       "      <td>USA</td>\n",
       "      <td>United States of America</td>\n",
       "      <td>USA</td>\n",
       "      <td>840072218</td>\n",
       "      <td>20170515</td>\n",
       "      <td>201704</td>\n",
       "      <td>...</td>\n",
       "      <td>Complete</td>\n",
       "      <td>Complete</td>\n",
       "      <td>1.0</td>\n",
       "      <td>1.0</td>\n",
       "      <td>1.0</td>\n",
       "      <td>0</td>\n",
       "      <td>0</td>\n",
       "      <td>1</td>\n",
       "      <td>0</td>\n",
       "      <td>0</td>\n",
       "    </tr>\n",
       "    <tr>\n",
       "      <th>4</th>\n",
       "      <td>1-5-0 (2020-11-16)</td>\n",
       "      <td>doi.org/10.14281/18241.1</td>\n",
       "      <td>2017</td>\n",
       "      <td>United States</td>\n",
       "      <td>USA</td>\n",
       "      <td>United States of America</td>\n",
       "      <td>USA</td>\n",
       "      <td>840073015</td>\n",
       "      <td>20170501</td>\n",
       "      <td>201704</td>\n",
       "      <td>...</td>\n",
       "      <td>Complete</td>\n",
       "      <td>Complete</td>\n",
       "      <td>1.0</td>\n",
       "      <td>1.0</td>\n",
       "      <td>1.0</td>\n",
       "      <td>0</td>\n",
       "      <td>1</td>\n",
       "      <td>1</td>\n",
       "      <td>0</td>\n",
       "      <td>0</td>\n",
       "    </tr>\n",
       "  </tbody>\n",
       "</table>\n",
       "<p>5 rows × 394 columns</p>\n",
       "</div>"
      ],
      "text/plain": [
       "  version Version of Data File doi Digital Object Identifier  \\\n",
       "0           1-5-0 (2020-11-16)      doi.org/10.14281/18241.1   \n",
       "1           1-5-0 (2020-11-16)      doi.org/10.14281/18241.1   \n",
       "2           1-5-0 (2020-11-16)      doi.org/10.14281/18241.1   \n",
       "3           1-5-0 (2020-11-16)      doi.org/10.14281/18241.1   \n",
       "4           1-5-0 (2020-11-16)      doi.org/10.14281/18241.1   \n",
       "\n",
       "   A_YEAR Year of survey B_COUNTRY ISO 3166-1 numeric country code  \\\n",
       "0                   2017                             United States   \n",
       "1                   2017                             United States   \n",
       "2                   2017                             United States   \n",
       "3                   2017                             United States   \n",
       "4                   2017                             United States   \n",
       "\n",
       "  B_COUNTRY_ALPHA ISO 3166-1 alpha-3 country code  \\\n",
       "0                                             USA   \n",
       "1                                             USA   \n",
       "2                                             USA   \n",
       "3                                             USA   \n",
       "4                                             USA   \n",
       "\n",
       "  C_COW_NUM CoW country code numeric C_COW_ALPHA CoW country code alpha  \\\n",
       "0           United States of America                                USA   \n",
       "1           United States of America                                USA   \n",
       "2           United States of America                                USA   \n",
       "3           United States of America                                USA   \n",
       "4           United States of America                                USA   \n",
       "\n",
       "   D_INTERVIEW Interview ID  J_INTDATE Date of interview  \\\n",
       "0                 840071622                     20170511   \n",
       "1                 840071861                     20170504   \n",
       "2                 840072716                     20170506   \n",
       "3                 840072218                     20170515   \n",
       "4                 840073015                     20170501   \n",
       "\n",
       "   FW_START Year/month of start-fieldwork  ...  \\\n",
       "0                                  201704  ...   \n",
       "1                                  201704  ...   \n",
       "2                                  201704  ...   \n",
       "3                                  201704  ...   \n",
       "4                                  201704  ...   \n",
       "\n",
       "   WEIGHT4A Overall Secular Values-4: Weight 4a  \\\n",
       "0                                      Complete   \n",
       "1                                      Complete   \n",
       "2                                      Complete   \n",
       "3                                      Complete   \n",
       "4                                      Complete   \n",
       "\n",
       "  WEIGHT4B Emancipative Values-4: Weight 4b  \\\n",
       "0                                  Complete   \n",
       "1                                  Complete   \n",
       "2                                  Complete   \n",
       "3                                  Complete   \n",
       "4                                  Complete   \n",
       "\n",
       "  RESEMAVALBWGT Weight for Emancipative values  \\\n",
       "0                                          1.0   \n",
       "1                                          1.0   \n",
       "2                                          1.0   \n",
       "3                                          1.0   \n",
       "4                                          1.0   \n",
       "\n",
       "  RESEMAVALWGT Weight for Emancipative values  \\\n",
       "0                                         1.0   \n",
       "1                                         1.0   \n",
       "2                                         1.0   \n",
       "3                                         1.0   \n",
       "4                                         1.0   \n",
       "\n",
       "  SECVALBWGT Weight for overall secular values Short Version  \\\n",
       "0                                                1.0           \n",
       "1                                                1.0           \n",
       "2                                                1.0           \n",
       "3                                                1.0           \n",
       "4                                                1.0           \n",
       "\n",
       "  Y001_1 Materialist/postmaterialist 12-item index: Component 1  \\\n",
       "0                                                  0              \n",
       "1                                                  1              \n",
       "2                                                  1              \n",
       "3                                                  0              \n",
       "4                                                  0              \n",
       "\n",
       "  Y001_2 Materialist/postmaterialist 12-item index: Component 2  \\\n",
       "0                                                  0              \n",
       "1                                                  1              \n",
       "2                                                  0              \n",
       "3                                                  0              \n",
       "4                                                  1              \n",
       "\n",
       "  Y001_3 Materialist/postmaterialist 12-item index: Component 3  \\\n",
       "0                                                  0              \n",
       "1                                                  1              \n",
       "2                                                  1              \n",
       "3                                                  1              \n",
       "4                                                  1              \n",
       "\n",
       "  Y001_4 Materialist/postmaterialist 12-item index: Component 4  \\\n",
       "0                                                  0              \n",
       "1                                                  1              \n",
       "2                                                  0              \n",
       "3                                                  0              \n",
       "4                                                  0              \n",
       "\n",
       "  Y001_5 Materialist/postmaterialist 12-item index: Component 5  \n",
       "0                                                  0             \n",
       "1                                                  1             \n",
       "2                                                  1             \n",
       "3                                                  0             \n",
       "4                                                  0             \n",
       "\n",
       "[5 rows x 394 columns]"
      ]
     },
     "execution_count": 5,
     "metadata": {},
     "output_type": "execute_result"
    }
   ],
   "source": [
    "txt_wave.head()"
   ]
  },
  {
   "cell_type": "code",
   "execution_count": 6,
   "metadata": {
    "ExecuteTime": {
     "end_time": "2023-10-04T09:34:36.606684Z",
     "start_time": "2023-10-04T09:34:36.591638Z"
    },
    "scrolled": true
   },
   "outputs": [
    {
     "name": "stdout",
     "output_type": "stream",
     "text": [
      "<class 'pandas.core.frame.DataFrame'>\n",
      "RangeIndex: 2596 entries, 0 to 2595\n",
      "Columns: 394 entries, version to Y001_5\n",
      "dtypes: float64(55), int64(334), object(5)\n",
      "memory usage: 7.8+ MB\n"
     ]
    }
   ],
   "source": [
    "num_wave.info()"
   ]
  },
  {
   "cell_type": "code",
   "execution_count": 7,
   "metadata": {
    "ExecuteTime": {
     "end_time": "2023-10-04T09:34:36.621176Z",
     "start_time": "2023-10-04T09:34:36.610132Z"
    },
    "scrolled": true
   },
   "outputs": [
    {
     "name": "stdout",
     "output_type": "stream",
     "text": [
      "<class 'pandas.core.frame.DataFrame'>\n",
      "RangeIndex: 2596 entries, 0 to 2595\n",
      "Columns: 394 entries, version Version of Data File to Y001_5 Materialist/postmaterialist 12-item index: Component 5\n",
      "dtypes: float64(8), int64(13), object(373)\n",
      "memory usage: 7.8+ MB\n"
     ]
    }
   ],
   "source": [
    "txt_wave.info()"
   ]
  },
  {
   "cell_type": "markdown",
   "metadata": {},
   "source": [
    "There don't appear to be any anomalies regarding the size of the two dataframes. I should be able to mirror any manipulations on them both."
   ]
  },
  {
   "cell_type": "code",
   "execution_count": 8,
   "metadata": {
    "ExecuteTime": {
     "end_time": "2023-10-04T09:34:36.624655Z",
     "start_time": "2023-10-04T09:34:36.622579Z"
    }
   },
   "outputs": [],
   "source": [
    "# Many of the columns of the numerical version are coded and impossible to\n",
    "# parse. So I am just going to copy-paste the columns from the text version\n",
    "# over to this one.\n",
    "num_wave.columns = txt_wave.columns"
   ]
  },
  {
   "cell_type": "markdown",
   "metadata": {},
   "source": [
    "## Cleaning out obstructive data\n",
    "\n",
    "In this section, I will be removing or editing the rows and columns that would impede my project. This will include finding non-answers and hunting down columns that are too similar to my target or unrelated to my question. Once I remove all the unnecessary columns, I'll search for any NaNs."
   ]
  },
  {
   "cell_type": "markdown",
   "metadata": {},
   "source": [
    "### Deleting Excess Columns\n",
    "\n",
    "The first part is easy: since I don't care about demographic data and only want to see what can be understood by what people said, I can eliminate the first several columns."
   ]
  },
  {
   "cell_type": "code",
   "execution_count": 9,
   "metadata": {
    "ExecuteTime": {
     "end_time": "2023-10-04T09:34:36.642343Z",
     "start_time": "2023-10-04T09:34:36.625614Z"
    }
   },
   "outputs": [],
   "source": [
    "# These also include data about the administration of the test itself, \n",
    "# such as what time of day it was given (column 11) or if the respondant was\n",
    "# alone (column 27).\n",
    "num_wave.drop(num_wave.iloc[:, 0:31], axis = 1, inplace=True)\n",
    "txt_wave.drop(txt_wave.iloc[:, 0:31], axis = 1, inplace=True)"
   ]
  },
  {
   "cell_type": "markdown",
   "metadata": {},
   "source": [
    "The back end of the survey includes more questions and explanations about demographics. (For my own personal curiosity, I would have liked to include the information about the person's sex. But I must remain true to my stated goal.)"
   ]
  },
  {
   "cell_type": "code",
   "execution_count": 10,
   "metadata": {
    "ExecuteTime": {
     "end_time": "2023-10-04T09:34:36.663172Z",
     "start_time": "2023-10-04T09:34:36.643343Z"
    }
   },
   "outputs": [],
   "source": [
    "num_wave.drop(num_wave.iloc[:, 264:], axis = 1, inplace=True)\n",
    "txt_wave.drop(txt_wave.iloc[:, 264:], axis = 1, inplace=True)"
   ]
  },
  {
   "cell_type": "markdown",
   "metadata": {},
   "source": [
    "The next part is something I'll have to do by hand: remove questions that by their nature will spoil the game.\n",
    "\n",
    "Question 165 is our target..."
   ]
  },
  {
   "cell_type": "code",
   "execution_count": 11,
   "metadata": {
    "ExecuteTime": {
     "end_time": "2023-10-04T09:34:36.666778Z",
     "start_time": "2023-10-04T09:34:36.664162Z"
    }
   },
   "outputs": [
    {
     "data": {
      "text/plain": [
       "'Q165 Believe in: God'"
      ]
     },
     "execution_count": 11,
     "metadata": {},
     "output_type": "execute_result"
    }
   ],
   "source": [
    "num_wave.iloc[:, 168].name"
   ]
  },
  {
   "cell_type": "markdown",
   "metadata": {
    "ExecuteTime": {
     "end_time": "2023-09-08T00:20:31.775865Z",
     "start_time": "2023-09-08T00:20:31.763211Z"
    }
   },
   "source": [
    "...but look at some others like question 167..."
   ]
  },
  {
   "cell_type": "code",
   "execution_count": 12,
   "metadata": {
    "ExecuteTime": {
     "end_time": "2023-10-04T09:34:36.670326Z",
     "start_time": "2023-10-04T09:34:36.667771Z"
    }
   },
   "outputs": [
    {
     "data": {
      "text/plain": [
       "'Q167 Believe in: hell'"
      ]
     },
     "execution_count": 12,
     "metadata": {},
     "output_type": "execute_result"
    }
   ],
   "source": [
    "num_wave.iloc[:, 170].name"
   ]
  },
  {
   "cell_type": "markdown",
   "metadata": {
    "ExecuteTime": {
     "end_time": "2023-09-08T00:21:37.216264Z",
     "start_time": "2023-09-08T00:21:37.211347Z"
    }
   },
   "source": [
    "...and you can probably intuit that answers to the two questions are related without a second thought.\n",
    "\n",
    "So I will hunt down as many of those very related statements from the list. By hand. Disclaimer: Some of the associations behind the questions are not remotely representative of the religious people I chose to associate with. But they do tend to track closely to some disappointing, but earned, stereotypes of some American Christians.\n",
    "\n",
    "After review, I believe the following columns are the ones that most ruin the spirit of my task:"
   ]
  },
  {
   "cell_type": "code",
   "execution_count": 13,
   "metadata": {
    "ExecuteTime": {
     "end_time": "2023-10-04T09:34:36.675305Z",
     "start_time": "2023-10-04T09:34:36.671278Z"
    }
   },
   "outputs": [
    {
     "data": {
      "text/plain": [
       "Index(['Q6 Important in life: Religion',\n",
       "       'Q15 Important child qualities: religious faith',\n",
       "       'Q22 Neighbors: Homosexuals',\n",
       "       'Q23 Neighbors: People of a different religion',\n",
       "       'Q25 Neighbors: Unmarried couples living together',\n",
       "       'Q36 Homosexual couples are as good parents as other couples',\n",
       "       'Q62 Trust: People of another religion', 'Q64 Confidence: Churches',\n",
       "       'Q94 Active/Inactive membership: church or religious org',\n",
       "       'Q160 We depend too much on science and not enough on faith',\n",
       "       'Q161 One of the bad effects of science is that it breaks down people’s ideas of right and wrong',\n",
       "       'Q164 Importance of God', 'Q166 Believe in: life after death',\n",
       "       'Q167 Believe in: hell', 'Q168 Believe in: heaven',\n",
       "       'Q169 Whenever science and religion conflict,  religion is always right',\n",
       "       'Q170 The only acceptable religion  is my religion',\n",
       "       'Q171 How often do you attend religious services',\n",
       "       'Q172 How often do you pray', 'Q173 Religious person',\n",
       "       'Q174 Meaning of religion: To follow religious norms and ceremonies vs To do good to other people',\n",
       "       'Q175 Meaning of religion: To make sense of life after death vs To make sense of life in this world',\n",
       "       'Q182 Justifiable: Homosexuality', 'Q183 Justifiable: Prostitution',\n",
       "       'Q184 Justifiable: Abortion', 'Q185 Justifiable: Divorce',\n",
       "       'Q186 Justifiable: Sex before marriage',\n",
       "       'Q191 Justifiable: Violence against other people',\n",
       "       'Q192 Justifiable: Terrorism as a political, ideological or religious mean',\n",
       "       'Q193 Justifiable: Having casual sex',\n",
       "       'Q239 Political system: Having a system governed by religious law in which there are no political parties or elections',\n",
       "       'Q242 Democracy: Religious authorities interpret the laws'],\n",
       "      dtype='object')"
      ]
     },
     "execution_count": 13,
     "metadata": {},
     "output_type": "execute_result"
    }
   ],
   "source": [
    "num_wave.iloc[:,[5,14, 21, 22, 24, 38, 64, 66, 97, 163, 164, 167] +\n",
    "              list(range(169,179)) +\n",
    "              list(range(185,189)) + [189, 194, 195, 196, 243, 246\n",
    "                                     ]].columns"
   ]
  },
  {
   "cell_type": "markdown",
   "metadata": {},
   "source": [
    "Let's move on from the religion talk for now.\n",
    "\n",
    "Some columns are just rehashes of previous ones but with one fewer answer choice (Usually \"Agree Strongly\"). We'll get rid of them."
   ]
  },
  {
   "cell_type": "code",
   "execution_count": 14,
   "metadata": {
    "ExecuteTime": {
     "end_time": "2023-10-04T09:34:36.680578Z",
     "start_time": "2023-10-04T09:34:36.677033Z"
    }
   },
   "outputs": [
    {
     "data": {
      "text/plain": [
       "Index(['Q33_3 Jobs scarce: Men should have more right to a job than women (3-point scale)',\n",
       "       'Q34_3 Jobs scarce: Employers should give priority to (nation) people than immigrants (3-point scale)',\n",
       "       'Q35_3 Problem if women have more income than husband (3-point scale)',\n",
       "       'Q223_ABREV Party preference Abbreviation',\n",
       "       'Q223_LOCAL Party preference Local name'],\n",
       "      dtype='object')"
      ]
     },
     "execution_count": 14,
     "metadata": {},
     "output_type": "execute_result"
    }
   ],
   "source": [
    "num_wave.iloc[:,[33,35,37, 226, 227]].columns"
   ]
  },
  {
   "cell_type": "markdown",
   "metadata": {},
   "source": [
    "And there were some columns that were actually about (or believably related to) demographics lost in the middle of the pile."
   ]
  },
  {
   "cell_type": "code",
   "execution_count": 15,
   "metadata": {
    "ExecuteTime": {
     "end_time": "2023-10-04T09:34:36.685313Z",
     "start_time": "2023-10-04T09:34:36.682024Z"
    },
    "scrolled": true
   },
   "outputs": [
    {
     "data": {
      "text/plain": [
       "Index(['Q51 Frequency you/family (last 12 month): Gone without enough food to eat',\n",
       "       'Q52 Frequency you/family (last 12 month): Felt unsafe from crime in your own home',\n",
       "       'Q53 Frequency you/family (last 12 month): Gone without needed medicine or treatment that you needed',\n",
       "       'Q54 Frequency you/family (last 12 month): Gone without a cash income',\n",
       "       'Q55 In the last 12 month, how often have you or your family: Gone without a safe shelter over your head',\n",
       "       'Q59 Trust: Your neighborhood', 'Q131 Secure in neighborhood',\n",
       "       'Q132 Frequency in your neighborhood: Robberies',\n",
       "       'Q133 Frequency in your neighborhood: Alcohol consumed in the streets',\n",
       "       'Q134 Frequency in your neighborhood: Police or military interfere with people’s private life',\n",
       "       'Q135 Frequency in your neighborhood: Racist behavior',\n",
       "       'Q136 Frequency in your neighborhood: Drug sale in streets',\n",
       "       'Q137 Frequency in your neighborhood: Street violence and fights',\n",
       "       'Q138 Frequency in your neighborhood: Sexual harassment',\n",
       "       'Q139 Things done for reasons of security: Didn’t carry much money',\n",
       "       'Q140 Things done for reasons of security: Preferred not to go out at night',\n",
       "       'Q141 Things done for reasons of security: Carried a knife, gun or other weapon',\n",
       "       'Q142 Worries: Losing my job or not finding a job',\n",
       "       'Q143 Worries: Not being able to give one's children a good education',\n",
       "       'Q144 Respondent was victim of a crime during the past year',\n",
       "       'Q145 Respondent's family was victim of a crime during last year'],\n",
       "      dtype='object')"
      ]
     },
     "execution_count": 15,
     "metadata": {},
     "output_type": "execute_result"
    }
   ],
   "source": [
    "num_wave.iloc[:,list(range(53,58)) + [61] + list(range(134,149))].columns"
   ]
  },
  {
   "cell_type": "markdown",
   "metadata": {
    "ExecuteTime": {
     "end_time": "2023-09-08T10:08:50.836919Z",
     "start_time": "2023-09-08T10:08:50.832329Z"
    }
   },
   "source": [
    "The following step just aggregates the preceding lists and drops them."
   ]
  },
  {
   "cell_type": "code",
   "execution_count": 16,
   "metadata": {
    "ExecuteTime": {
     "end_time": "2023-10-04T09:34:36.699784Z",
     "start_time": "2023-10-04T09:34:36.686434Z"
    }
   },
   "outputs": [],
   "source": [
    "num_wave = num_wave.drop(num_wave.iloc[:, \n",
    "                [5,14, 21, 22, 24, 38, 64, 66, 97, 163, 164, 167] +\n",
    "                list(range(169,179)) + list(range(185,189)) + \n",
    "                [189, 194, 195, 196, 243, 246] + [33,35,37, 226, 227] + \n",
    "                list(range(53,58)) + list(range(134,150))], axis = 1)\n",
    "\n",
    "txt_wave = txt_wave.drop(txt_wave.iloc[:, \n",
    "                [5,14, 21, 22, 24, 38, 64, 66, 97, 163, 164, 167] +\n",
    "                list(range(169,179)) + list(range(185,189)) + \n",
    "                [189, 194, 195, 196, 243, 246] + [33,35,37, 226, 227] + \n",
    "                list(range(53,58)) + list(range(134,150))], axis = 1)"
   ]
  },
  {
   "cell_type": "code",
   "execution_count": 17,
   "metadata": {
    "ExecuteTime": {
     "end_time": "2023-10-04T09:34:36.703245Z",
     "start_time": "2023-10-04T09:34:36.700802Z"
    },
    "scrolled": true
   },
   "outputs": [
    {
     "data": {
      "text/plain": [
       "206"
      ]
     },
     "execution_count": 17,
     "metadata": {},
     "output_type": "execute_result"
    }
   ],
   "source": [
    "#How many columns am I examining?\n",
    "len(num_wave.columns)"
   ]
  },
  {
   "cell_type": "markdown",
   "metadata": {},
   "source": [
    "205 questions, excluding the target column. With over 2,500 respondents, that's a half-million data points for my models to use! Maybe this is small potatoes for the average professional, but this certainly feels like a lot to me."
   ]
  },
  {
   "cell_type": "markdown",
   "metadata": {},
   "source": [
    "### Handling the target column\n",
    "\n",
    "I am going to want to get my target column ('Q165 Believe in: God') out of the way so it doesn't involve itself in any of the preprocessing. But before I can do that, I should see if it includes any rows that need removing."
   ]
  },
  {
   "cell_type": "code",
   "execution_count": 18,
   "metadata": {
    "ExecuteTime": {
     "end_time": "2023-10-04T09:34:36.706667Z",
     "start_time": "2023-10-04T09:34:36.704243Z"
    }
   },
   "outputs": [
    {
     "data": {
      "text/plain": [
       "'Q165 Believe in: God'"
      ]
     },
     "execution_count": 18,
     "metadata": {},
     "output_type": "execute_result"
    }
   ],
   "source": [
    "# The target column\n",
    "num_wave.iloc[:, 132].name"
   ]
  },
  {
   "cell_type": "code",
   "execution_count": 19,
   "metadata": {
    "ExecuteTime": {
     "end_time": "2023-10-04T09:34:36.710813Z",
     "start_time": "2023-10-04T09:34:36.707585Z"
    },
    "scrolled": false
   },
   "outputs": [
    {
     "data": {
      "text/plain": [
       " 1    2027\n",
       " 2     538\n",
       "-2      31\n",
       "Name: Q165 Believe in: God, dtype: int64"
      ]
     },
     "execution_count": 19,
     "metadata": {},
     "output_type": "execute_result"
    }
   ],
   "source": [
    "# What are its values?\n",
    "num_wave.iloc[:, 132].value_counts()"
   ]
  },
  {
   "cell_type": "markdown",
   "metadata": {},
   "source": [
    "Thankfully, we have a key to decipher what these values mean."
   ]
  },
  {
   "cell_type": "code",
   "execution_count": 20,
   "metadata": {
    "ExecuteTime": {
     "end_time": "2023-10-04T09:34:36.715409Z",
     "start_time": "2023-10-04T09:34:36.711720Z"
    },
    "scrolled": true
   },
   "outputs": [
    {
     "data": {
      "text/plain": [
       "Yes          2027\n",
       "No            538\n",
       "No answer      31\n",
       "Name: Q165 Believe in: God, dtype: int64"
      ]
     },
     "execution_count": 20,
     "metadata": {},
     "output_type": "execute_result"
    }
   ],
   "source": [
    "txt_wave.iloc[:, 132].value_counts()"
   ]
  },
  {
   "cell_type": "markdown",
   "metadata": {},
   "source": [
    "Only 31 of the answers are \"No answer\", which is a small enough amount of responses that I can just drop those columns."
   ]
  },
  {
   "cell_type": "code",
   "execution_count": 21,
   "metadata": {
    "ExecuteTime": {
     "end_time": "2023-10-04T09:34:36.734268Z",
     "start_time": "2023-10-04T09:34:36.719628Z"
    },
    "scrolled": true
   },
   "outputs": [
    {
     "data": {
      "text/plain": [
       "1    2027\n",
       "2     538\n",
       "Name: Q165 Believe in: God, dtype: int64"
      ]
     },
     "execution_count": 21,
     "metadata": {},
     "output_type": "execute_result"
    }
   ],
   "source": [
    "num_wave = num_wave.drop(num_wave[num_wave['Q165 Believe in: God'] == \n",
    "                                  -2].index)\n",
    "txt_wave = txt_wave.drop(txt_wave[txt_wave['Q165 Believe in: God'] == \n",
    "                                  \"No answer\"].index)\n",
    "#The above code was repurposed from:\n",
    "# https://saturncloud.io/blog/\n",
    "# how-to-remove-rows-with-specific-values-in-pandas-dataframe/\n",
    "num_wave[\"Q165 Believe in: God\"].value_counts()"
   ]
  },
  {
   "cell_type": "markdown",
   "metadata": {},
   "source": [
    "Before I move on, now that we're done lopping off large swaths of the data, I can search for entries with literal NaNs to remove:"
   ]
  },
  {
   "cell_type": "code",
   "execution_count": 22,
   "metadata": {
    "ExecuteTime": {
     "end_time": "2023-10-04T09:34:36.782091Z",
     "start_time": "2023-10-04T09:34:36.737123Z"
    }
   },
   "outputs": [
    {
     "data": {
      "text/plain": [
       "0"
      ]
     },
     "execution_count": 22,
     "metadata": {},
     "output_type": "execute_result"
    }
   ],
   "source": [
    "nans = 0\n",
    "for col in num_wave:\n",
    "    nans += sum(num_wave[col].isna())\n",
    "nans"
   ]
  },
  {
   "cell_type": "markdown",
   "metadata": {},
   "source": [
    "That makes things easier. But there are still \"non-answers\" that are hiding out in the dataframe, and my target column held the clue for discovering them all."
   ]
  },
  {
   "cell_type": "markdown",
   "metadata": {},
   "source": [
    "### Removing negative numbers from the predictors\n",
    "\n",
    "There are responses that have been coded with negative numbers, and these answers are those that lie outside of the continuum that spans from agree to disagree (\"No answer\" isn't exactly next in line after \"Strongly Disagree\", is it?)\n",
    "\n",
    "Many of the questions do in fact have answers that are about how much you agree with a statement, and with these questions I expect to impute the non-answers with the median. But since this strategy doesn't make sense with categorical questions, I have to hunt those down first."
   ]
  },
  {
   "cell_type": "code",
   "execution_count": 23,
   "metadata": {
    "ExecuteTime": {
     "end_time": "2023-10-04T09:34:36.786092Z",
     "start_time": "2023-10-04T09:34:36.783145Z"
    }
   },
   "outputs": [
    {
     "data": {
      "text/plain": [
       "Index(['Q152 Aims of country: first choice',\n",
       "       'Q153 Aims of country: second choice',\n",
       "       'Q154 Aims of respondent: first choice',\n",
       "       'Q155 Aims of respondent: second choice',\n",
       "       'Q156 Most important: first choice',\n",
       "       'Q157 Most important: second choice'],\n",
       "      dtype='object')"
      ]
     },
     "execution_count": 23,
     "metadata": {},
     "output_type": "execute_result"
    }
   ],
   "source": [
    "# All the categorical questions were thankfully bunched together \n",
    "num_wave.iloc[:,list(range(122,128))].columns"
   ]
  },
  {
   "cell_type": "code",
   "execution_count": 24,
   "metadata": {
    "ExecuteTime": {
     "end_time": "2023-10-04T09:34:36.790428Z",
     "start_time": "2023-10-04T09:34:36.787124Z"
    },
    "scrolled": false
   },
   "outputs": [
    {
     "data": {
      "text/plain": [
       " 1    850\n",
       " 2    697\n",
       " 4    686\n",
       " 3    307\n",
       "-2     24\n",
       "-1      1\n",
       "Name: Q154 Aims of respondent: first choice, dtype: int64"
      ]
     },
     "execution_count": 24,
     "metadata": {},
     "output_type": "execute_result"
    }
   ],
   "source": [
    "# Are there negative number answers?\n",
    "num_wave.iloc[:,124].value_counts()"
   ]
  },
  {
   "cell_type": "code",
   "execution_count": 25,
   "metadata": {
    "ExecuteTime": {
     "end_time": "2023-10-04T09:34:36.794880Z",
     "start_time": "2023-10-04T09:34:36.791339Z"
    }
   },
   "outputs": [
    {
     "data": {
      "text/plain": [
       "Maintaining order in the nation                             850\n",
       "Giving people more say in important government decisions    697\n",
       "Protecting freedom of speech                                686\n",
       "Fighting rising prices                                      307\n",
       "No answer                                                    24\n",
       "Don't know                                                    1\n",
       "Name: Q154 Aims of respondent: first choice, dtype: int64"
      ]
     },
     "execution_count": 25,
     "metadata": {},
     "output_type": "execute_result"
    }
   ],
   "source": [
    "# And what are those in text?\n",
    "txt_wave.iloc[:,124].value_counts()"
   ]
  },
  {
   "cell_type": "markdown",
   "metadata": {},
   "source": [
    "I'm going to use the SimpleImputer in sklearn to bunch the non-answers into one column. Then, when I use the one-hot encoder, I will have that column be the column to drop.\n",
    "\n",
    "This will also be where we leave my training wheels, the txt_wave df, behind. If I want to look up any particular question, I can still do it manually."
   ]
  },
  {
   "cell_type": "code",
   "execution_count": 26,
   "metadata": {
    "ExecuteTime": {
     "end_time": "2023-10-04T09:34:36.809452Z",
     "start_time": "2023-10-04T09:34:36.795814Z"
    }
   },
   "outputs": [],
   "source": [
    "# I impute them to still be a negative values since when I tell the OHE to\n",
    "# drop the first column negative numbers come before 1\n",
    "cat_imputer = SimpleImputer(missing_values=-2, \n",
    "                            strategy=\"constant\", fill_value= -1)\n",
    "\n",
    "for col in num_wave.iloc[:,list(range(121,127))]:\n",
    "    num_wave[col] = cat_imputer.fit_transform(pd.DataFrame(num_wave[col]))"
   ]
  },
  {
   "cell_type": "code",
   "execution_count": 27,
   "metadata": {
    "ExecuteTime": {
     "end_time": "2023-10-04T09:34:36.813537Z",
     "start_time": "2023-10-04T09:34:36.810426Z"
    }
   },
   "outputs": [
    {
     "data": {
      "text/plain": [
       " 1    1058\n",
       " 2     793\n",
       " 3     623\n",
       "-1      91\n",
       "Name: Q153 Aims of country: second choice, dtype: int64"
      ]
     },
     "execution_count": 27,
     "metadata": {},
     "output_type": "execute_result"
    }
   ],
   "source": [
    "# Making sure it worked as I wanted it to\n",
    "num_wave.iloc[:,123].value_counts()"
   ]
  },
  {
   "cell_type": "code",
   "execution_count": 28,
   "metadata": {
    "ExecuteTime": {
     "end_time": "2023-10-04T09:34:36.821382Z",
     "start_time": "2023-10-04T09:34:36.814435Z"
    },
    "scrolled": true
   },
   "outputs": [],
   "source": [
    "# And to banish all of those non-answers to the shadow realm.\n",
    "num_wave = pd.get_dummies(num_wave, columns=[\n",
    "       'Q152 Aims of country: first choice',\n",
    "       'Q153 Aims of country: second choice',\n",
    "       'Q154 Aims of respondent: first choice',\n",
    "       'Q155 Aims of respondent: second choice',\n",
    "       'Q156 Most important: first choice',\n",
    "       'Q157 Most important: second choice'], drop_first=True)"
   ]
  },
  {
   "cell_type": "markdown",
   "metadata": {},
   "source": [
    "Finally, we can handle the non-answers for the answers in a proper scale."
   ]
  },
  {
   "cell_type": "code",
   "execution_count": 29,
   "metadata": {
    "ExecuteTime": {
     "end_time": "2023-10-04T09:34:37.487569Z",
     "start_time": "2023-10-04T09:34:36.822280Z"
    }
   },
   "outputs": [],
   "source": [
    "imputer = SimpleImputer(strategy='median')\n",
    "\n",
    "# I would bet money that there are no more than 2 possible \"non answers\",\n",
    "    # but I can't feel 100% safe making that assumption. I also don't want to\n",
    "    # scan a few hundred questions *again*. So I am going to cast a wide net\n",
    "    # of negative numbers down to -4 to be sure.\n",
    "\n",
    "for col in num_wave:\n",
    "    # A boolean single column dataframe, whether or not the answer is negative\n",
    "    filtered = ~pd.DataFrame(num_wave[col]).isin([-1, -2, -3, -4])\n",
    "    # The column in question, isolated and in its natural state\n",
    "    unfiltered = pd.DataFrame(num_wave[col])\n",
    "    # The column, where all negative values are interpreted as NaNs\n",
    "    nans_n_nums = unfiltered[filtered == True]\n",
    "    # Imputing those NaNs as the median for that column\n",
    "    num_wave[col] = imputer.fit_transform(pd.DataFrame(nans_n_nums[col]))"
   ]
  },
  {
   "cell_type": "code",
   "execution_count": 30,
   "metadata": {
    "ExecuteTime": {
     "end_time": "2023-10-04T09:34:37.491734Z",
     "start_time": "2023-10-04T09:34:37.488471Z"
    }
   },
   "outputs": [
    {
     "data": {
      "text/plain": [
       "1.0    2289\n",
       "2.0     220\n",
       "3.0      48\n",
       "4.0       8\n",
       "Name: Q1 Important in life: Family, dtype: int64"
      ]
     },
     "execution_count": 30,
     "metadata": {},
     "output_type": "execute_result"
    }
   ],
   "source": [
    "#Making sure all's well\n",
    "num_wave[\"Q1 Important in life: Family\"].value_counts(dropna=False)"
   ]
  },
  {
   "cell_type": "markdown",
   "metadata": {},
   "source": [
    "# Basic Model: Logistic Regression\n",
    "\n",
    "A logistic regression model is going to be my basic approach. However, there is one issue to take care of before we can start building the model..."
   ]
  },
  {
   "cell_type": "markdown",
   "metadata": {},
   "source": [
    "### Multicollinearity"
   ]
  },
  {
   "cell_type": "markdown",
   "metadata": {},
   "source": [
    "One of the assumptions of logistic regression is that predictors should be independent of one another. This small section seeks to make sure I meet that assumption."
   ]
  },
  {
   "cell_type": "markdown",
   "metadata": {},
   "source": [
    "To both retain my ignorance of the answer to the question \"What questions best predict theism\" and to prevent data leakage, it's time to separate my target column from the rest. And while I'm here, I should establish what percentage of those responses were \"yes\" so I know what score I have to beat with my model."
   ]
  },
  {
   "cell_type": "code",
   "execution_count": 31,
   "metadata": {
    "ExecuteTime": {
     "end_time": "2023-10-04T09:34:37.500228Z",
     "start_time": "2023-10-04T09:34:37.492688Z"
    }
   },
   "outputs": [
    {
     "data": {
      "text/plain": [
       "1.0    2027\n",
       "2.0     538\n",
       "Name: Q165 Believe in: God, dtype: int64"
      ]
     },
     "execution_count": 31,
     "metadata": {},
     "output_type": "execute_result"
    }
   ],
   "source": [
    "y = num_wave[\"Q165 Believe in: God\"]\n",
    "\n",
    "num_wave = num_wave.drop(\"Q165 Believe in: God\", axis=1)\n",
    "\n",
    "y.value_counts()"
   ]
  },
  {
   "cell_type": "code",
   "execution_count": 32,
   "metadata": {
    "ExecuteTime": {
     "end_time": "2023-10-04T09:34:37.503176Z",
     "start_time": "2023-10-04T09:34:37.501109Z"
    }
   },
   "outputs": [
    {
     "data": {
      "text/plain": [
       "0.7902534113060429"
      ]
     },
     "execution_count": 32,
     "metadata": {},
     "output_type": "execute_result"
    }
   ],
   "source": [
    "2027/(2027+538)"
   ]
  },
  {
   "cell_type": "markdown",
   "metadata": {},
   "source": [
    "#### 79% of people said \"yes\" to \"do you believe in a god?\""
   ]
  },
  {
   "cell_type": "markdown",
   "metadata": {},
   "source": [
    "Earlier at Flatiron, one of the teaching modules showed off a clever way to display the important correlations in the dataset. Here it is:"
   ]
  },
  {
   "cell_type": "code",
   "execution_count": 33,
   "metadata": {
    "ExecuteTime": {
     "end_time": "2023-10-04T09:34:37.657145Z",
     "start_time": "2023-10-04T09:34:37.503989Z"
    }
   },
   "outputs": [],
   "source": [
    "# Notice the absolute value method here: \n",
    "# all correlations will appear positive\n",
    "corr_wave = num_wave.corr().abs().stack().reset_index().sort_values(0, ascending=False)\n",
    "\n",
    "# zip the variable name columns (Which were only named level_0 and level_1 \n",
    "# by default) in a new column named \"pairs\"\n",
    "corr_wave['pairs'] = list(zip(corr_wave.level_0, corr_wave.level_1))\n",
    "\n",
    "# set index to pairs\n",
    "corr_wave.set_index(['pairs'], inplace = True)\n",
    "\n",
    "#drop level columns\n",
    "corr_wave.drop(columns=['level_1', 'level_0'], inplace = True)\n",
    "\n",
    "# rename correlation column as cc rather than 0\n",
    "corr_wave.columns = ['cc']\n",
    "\n",
    "# drop duplicates. This could be dangerous if you have variables perfectly \n",
    "# correlated with variables other than themselves.\n",
    "corr_wave.drop_duplicates(inplace=True)"
   ]
  },
  {
   "cell_type": "code",
   "execution_count": 34,
   "metadata": {
    "ExecuteTime": {
     "end_time": "2023-10-04T09:34:37.663674Z",
     "start_time": "2023-10-04T09:34:37.658138Z"
    },
    "scrolled": false
   },
   "outputs": [
    {
     "data": {
      "text/html": [
       "<div>\n",
       "<style scoped>\n",
       "    .dataframe tbody tr th:only-of-type {\n",
       "        vertical-align: middle;\n",
       "    }\n",
       "\n",
       "    .dataframe tbody tr th {\n",
       "        vertical-align: top;\n",
       "    }\n",
       "\n",
       "    .dataframe thead th {\n",
       "        text-align: right;\n",
       "    }\n",
       "</style>\n",
       "<table border=\"1\" class=\"dataframe\">\n",
       "  <thead>\n",
       "    <tr style=\"text-align: right;\">\n",
       "      <th></th>\n",
       "      <th>cc</th>\n",
       "    </tr>\n",
       "    <tr>\n",
       "      <th>pairs</th>\n",
       "      <th></th>\n",
       "    </tr>\n",
       "  </thead>\n",
       "  <tbody>\n",
       "    <tr>\n",
       "      <th>(Q29 Men make better political leaders than women do, Q31 Men make better business executives than women do)</th>\n",
       "      <td>0.748715</td>\n",
       "    </tr>\n",
       "    <tr>\n",
       "      <th>(Q87 Confidence: The World Bank (WB), Q89 Confidence: The World Trade Organization (WTO))</th>\n",
       "      <td>0.723824</td>\n",
       "    </tr>\n",
       "    <tr>\n",
       "      <th>(Q222 Vote in elections: national level, Q221 Vote in elections: local level)</th>\n",
       "      <td>0.722944</td>\n",
       "    </tr>\n",
       "    <tr>\n",
       "      <th>(Q87 Confidence: The World Bank (WB), Q84 Confidence: International Monetary Found (IMF))</th>\n",
       "      <td>0.714620</td>\n",
       "    </tr>\n",
       "    <tr>\n",
       "      <th>(Q80 Confidence: The Women's Movement, Q79 Confidence: The Environmental Protection Movement)</th>\n",
       "      <td>0.707056</td>\n",
       "    </tr>\n",
       "  </tbody>\n",
       "</table>\n",
       "</div>"
      ],
      "text/plain": [
       "                                                          cc\n",
       "pairs                                                       \n",
       "(Q29 Men make better political leaders than wom...  0.748715\n",
       "(Q87 Confidence: The World Bank (WB), Q89 Confi...  0.723824\n",
       "(Q222 Vote in elections: national level, Q221 V...  0.722944\n",
       "(Q87 Confidence: The World Bank (WB), Q84 Confi...  0.714620\n",
       "(Q80 Confidence: The Women's Movement, Q79 Conf...  0.707056"
      ]
     },
     "execution_count": 34,
     "metadata": {},
     "output_type": "execute_result"
    }
   ],
   "source": [
    "# Using .7 as a somewhat arbitrary cutoff point.\n",
    "corr_wave[(corr_wave[\"cc\"] > 0.7) & (corr_wave[\"cc\"] < 1)]"
   ]
  },
  {
   "cell_type": "markdown",
   "metadata": {},
   "source": [
    "Only a handful of columns show strong correlations, and there is even one feature that shows up twice (Q87 Confidence: The World Bank (WB)). This is good for me, since I don't have a complicated path to figure out what the minimum number of dropped features has to be. \n",
    "\n",
    "The one thing that will certainly happen is that I'll, drop the lone repeated column. Then, since there are only three pairs of highly correlated variables, I can iterate through the 8 permutations that can be made by choosing one element from each of those pairs to see which set of elements does best on the training set."
   ]
  },
  {
   "cell_type": "code",
   "execution_count": 35,
   "metadata": {
    "ExecuteTime": {
     "end_time": "2023-10-04T09:34:37.666607Z",
     "start_time": "2023-10-04T09:34:37.664696Z"
    }
   },
   "outputs": [],
   "source": [
    "# The strongly correlated pairs that don't include Q87\n",
    "pair_1 = [\"Q31 Men make better business executives than women do\", \n",
    "          \"Q29 Men make better political leaders than women do\"] \n",
    "pair_2 = [\"Q221 Vote in elections: local level\", \n",
    "          \"Q222 Vote in elections: national level\"]\n",
    "pair_3 = [\"Q80 Confidence: The Women's Movement\", \n",
    "          \"Q79 Confidence: The Environmental Protection Movement\"]\n",
    "\n",
    "products = list(product(pair_1, pair_2, pair_3)) \n",
    "# \"product\" automatically generates the 8 permutations for me"
   ]
  },
  {
   "cell_type": "markdown",
   "metadata": {},
   "source": [
    "### First Logreg attempt"
   ]
  },
  {
   "cell_type": "code",
   "execution_count": 36,
   "metadata": {
    "ExecuteTime": {
     "end_time": "2023-10-04T09:35:10.277153Z",
     "start_time": "2023-10-04T09:34:37.667622Z"
    },
    "scrolled": true
   },
   "outputs": [
    {
     "name": "stdout",
     "output_type": "stream",
     "text": [
      "best score =  0.7893915756630265\n",
      "best params =  {'C': 10, 'class_weight': None, 'fit_intercept': True, 'penalty': 'l2', 'random_state': 27, 'solver': 'sag'}\n",
      "dropped columns =  ['Q87 Confidence: The World Bank (WB)', 'Q29 Men make better political leaders than women do', 'Q222 Vote in elections: national level', 'Q79 Confidence: The Environmental Protection Movement']\n"
     ]
    }
   ],
   "source": [
    "logreg = LogisticRegression()\n",
    "\n",
    "param_grid = {\n",
    "    'fit_intercept': [True],\n",
    "    \"penalty\": [\"l2\", None], #l1 excluded because many solvers can't manage it\n",
    "    'C': [10, 2, 1, .5],\n",
    "    'solver': [\"sag\", \"newton-cg\" \"newton-cholesky\"],\n",
    "    \"random_state\": [27],\n",
    "    \"class_weight\": [None, 'balanced', {1:1, 0:2}] #My classes are imbalanced\n",
    "}\n",
    "\n",
    "best_score = 0\n",
    "best_params = []\n",
    "\n",
    "for p in products: # For each combination of correlated variables...\n",
    "    X_train, X_test, y_train, y_test = train_test_split(num_wave, \n",
    "                                                        y, random_state=27)\n",
    "    drop_cols = [\"Q87 Confidence: The World Bank (WB)\"]\n",
    "    for item in p:\n",
    "        drop_cols.append(item) # ...stick those variables in a list...\n",
    "    X_train.drop(drop_cols, axis = 1) # ...and drop the list, to test w/o them\n",
    "    gs = GridSearchCV(logreg, param_grid, cv=3) #cv = 3, save processing time\n",
    "    gs.fit(X_train, y_train)\n",
    "    if gs.score(X_train, y_train) > best_score: # Finding the best score\n",
    "        best_score = gs.score(X_train, y_train)\n",
    "        best_params = gs.best_params_\n",
    "    else:\n",
    "        pass\n",
    "    \n",
    "print(\"best score = \", best_score)\n",
    "print(\"best params = \", best_params)\n",
    "print(\"dropped columns = \", drop_cols)"
   ]
  },
  {
   "cell_type": "markdown",
   "metadata": {
    "ExecuteTime": {
     "end_time": "2023-09-18T17:27:22.210874Z",
     "start_time": "2023-09-18T17:27:22.208922Z"
    }
   },
   "source": [
    "78.9%? That's only doing about as well as a \"dumb\" model that always guesses yes for the majority class!\n",
    "\n",
    "How does it do on test data?"
   ]
  },
  {
   "cell_type": "code",
   "execution_count": 198,
   "metadata": {
    "ExecuteTime": {
     "end_time": "2023-10-05T07:24:57.589342Z",
     "start_time": "2023-10-05T07:24:57.564660Z"
    }
   },
   "outputs": [
    {
     "data": {
      "text/plain": [
       "0.7928348909657321"
      ]
     },
     "execution_count": 198,
     "metadata": {},
     "output_type": "execute_result"
    }
   ],
   "source": [
    "gs_log.score(X_test_log, y_test_log)"
   ]
  },
  {
   "cell_type": "markdown",
   "metadata": {},
   "source": [
    "79.28% accuracy for the first logistic regression model.\n",
    "\n",
    "Very suspicious. Let's see the confusion matrix."
   ]
  },
  {
   "cell_type": "code",
   "execution_count": 39,
   "metadata": {
    "ExecuteTime": {
     "end_time": "2023-10-04T09:35:18.826241Z",
     "start_time": "2023-10-04T09:35:18.701588Z"
    },
    "scrolled": true
   },
   "outputs": [
    {
     "data": {
      "text/plain": [
       "<sklearn.metrics._plot.confusion_matrix.ConfusionMatrixDisplay at 0x7fe59128de20>"
      ]
     },
     "execution_count": 39,
     "metadata": {},
     "output_type": "execute_result"
    },
    {
     "data": {
      "image/png": "[encoded data removed]",
      "text/plain": [
       "<Figure size 432x288 with 2 Axes>"
      ]
     },
     "metadata": {
      "needs_background": "light"
     },
     "output_type": "display_data"
    }
   ],
   "source": [
    "y_hat_test_log = gs_log.predict(X_test_log)\n",
    "\n",
    "cnf_matrix_log = confusion_matrix(y_test_log, y_hat_test_log)\n",
    "\n",
    "disp = ConfusionMatrixDisplay(confusion_matrix=cnf_matrix_log,\n",
    "                              display_labels=gs_log.classes_)\n",
    "disp.plot(cmap=plt.cm.bone)"
   ]
  },
  {
   "cell_type": "markdown",
   "metadata": {},
   "source": [
    "Oh my, *it was* just guessing blindly. Is there anything that can be done to make it smarter?"
   ]
  },
  {
   "cell_type": "markdown",
   "metadata": {},
   "source": [
    "#### Second logistic regression attempt\n",
    "Applying a class weight hyperparameter is the first thing that comes to mind. I'll also try out some new, high C values to see if a larger penalty makes a difference."
   ]
  },
  {
   "cell_type": "code",
   "execution_count": 199,
   "metadata": {
    "ExecuteTime": {
     "end_time": "2023-10-05T07:30:17.725669Z",
     "start_time": "2023-10-05T07:29:16.249184Z"
    }
   },
   "outputs": [
    {
     "name": "stdout",
     "output_type": "stream",
     "text": [
      "best score =  0.7893915756630265\n",
      "best params =  {'C': 50, 'class_weight': 'balanced_subsample', 'fit_intercept': True, 'penalty': 'l2', 'random_state': 27, 'solver': 'sag'}\n",
      "dropped columns =  ['Q87 Confidence: The World Bank (WB)', 'Q29 Men make better political leaders than women do', 'Q222 Vote in elections: national level', 'Q79 Confidence: The Environmental Protection Movement']\n"
     ]
    }
   ],
   "source": [
    "# Retrying a grid search, also with new solvers previously unavailable\n",
    "param_grid = {\n",
    "    'fit_intercept': [True],\n",
    "    \"penalty\": [\"l2\"],\n",
    "    'C': [50, 25, 16, 10],\n",
    "    'solver': [\"sag\"],\n",
    "    \"random_state\": [27],\n",
    "    \"class_weight\": ['balanced', \"balanced_subsample\"]\n",
    "}\n",
    "\n",
    "best_score = 0\n",
    "best_params = []\n",
    "best_pairs = []\n",
    "\n",
    "#Still trying to see which correlated columns should be dropped\n",
    "for p in products:\n",
    "    X_train, X_test, y_train, y_test = train_test_split(num_wave, \n",
    "                                                        y, random_state=27)\n",
    "    drop_cols = [\"Q87 Confidence: The World Bank (WB)\"]\n",
    "    for item in p:\n",
    "        drop_cols.append(item)\n",
    "    X_train.drop(drop_cols, axis = 1)\n",
    "    gs = GridSearchCV(logreg, param_grid, cv=5)\n",
    "    gs.fit(X_train, y_train)\n",
    "    if gs.score(X_train, y_train) > best_score:\n",
    "        best_score = gs.score(X_train, y_train)\n",
    "        best_params = gs.best_params_\n",
    "    else:\n",
    "        pass\n",
    "    \n",
    "print(\"best score = \", best_score)\n",
    "print(\"best params = \", best_params)\n",
    "print(\"dropped columns = \", drop_cols)"
   ]
  },
  {
   "cell_type": "markdown",
   "metadata": {},
   "source": [
    "Note: The dropped columns here were actually the same ones from the previous attempt.\n",
    "\n",
    "The best score once again looks like it's just guessing blindly. Let's confirm."
   ]
  },
  {
   "cell_type": "code",
   "execution_count": 200,
   "metadata": {
    "ExecuteTime": {
     "end_time": "2023-10-05T07:30:57.563147Z",
     "start_time": "2023-10-05T07:30:57.309455Z"
    }
   },
   "outputs": [
    {
     "name": "stdout",
     "output_type": "stream",
     "text": [
      "0.7928348909657321\n"
     ]
    }
   ],
   "source": [
    "logreg_bal = LogisticRegression(C= 0.50, class_weight = \"balanced_subsample\",\n",
    "                            fit_intercept = True, penalty = 'l2', \n",
    "                            random_state = 27, solver = 'sag')\n",
    "\n",
    "logreg_bal.fit(X_train_log, y_train_log)\n",
    "print(logreg_bal.score(X_test_log, y_test_log))"
   ]
  },
  {
   "cell_type": "markdown",
   "metadata": {},
   "source": [
    "#### The second logreg model isn't any smarter."
   ]
  },
  {
   "cell_type": "code",
   "execution_count": 201,
   "metadata": {
    "ExecuteTime": {
     "end_time": "2023-10-05T07:31:07.846764Z",
     "start_time": "2023-10-05T07:31:07.723403Z"
    },
    "scrolled": true
   },
   "outputs": [
    {
     "data": {
      "text/plain": [
       "<sklearn.metrics._plot.confusion_matrix.ConfusionMatrixDisplay at 0x7fe5a11040a0>"
      ]
     },
     "execution_count": 201,
     "metadata": {},
     "output_type": "execute_result"
    },
    {
     "data": {
      "image/png": "[encoded data removed]",
      "text/plain": [
       "<Figure size 432x288 with 2 Axes>"
      ]
     },
     "metadata": {
      "needs_background": "light"
     },
     "output_type": "display_data"
    }
   ],
   "source": [
    "y_hat_test_bal = logreg_bal.predict(X_test_log)\n",
    "\n",
    "cnf_matrix_bal = confusion_matrix(y_test_log, y_hat_test_l1)\n",
    "\n",
    "disp_bal = ConfusionMatrixDisplay(confusion_matrix=cnf_matrix_bal,\n",
    "                              display_labels=logreg_l1.classes_)\n",
    "disp_bal.plot(cmap=plt.cm.bone)"
   ]
  },
  {
   "cell_type": "markdown",
   "metadata": {},
   "source": [
    "#### It seems as though I can't reliably predict someone's religiosity based on unrelated factors. However, we still have a few extra models to try before we give up."
   ]
  },
  {
   "cell_type": "markdown",
   "metadata": {},
   "source": [
    "### Addendum\n",
    "I have questions about why this model performed as it did. Earlier, I accidentally left a highly relevant column in my dataframe and didn't catch it until what would have been the final leg of my project. \"Question 94: Are you a part of a religious organization\". Before I removed that one question, the logreg models made smarter predictions. Now that the strongest column has been removed... it seems like it doesn't know what to do. Very curious."
   ]
  },
  {
   "cell_type": "markdown",
   "metadata": {},
   "source": [
    "# Bonus Model: GradientBoostingClassifier\n",
    "\n"
   ]
  },
  {
   "cell_type": "markdown",
   "metadata": {},
   "source": [
    "While doing research on how best to approach my problem I ran into this model type.\n",
    "\n",
    "From what I'm able to understand, it's an ensemble method, like the random forest. But instead of making random subsets of the dataframe and averaging the results, it progressively makes incremental improvements on previous iterations of itself. Evidently, it's sensitive to differences in the hyperparameters but with proper tuning it *should* do better than the random forest. So... let's see what I get?\n",
    "\n",
    "First, I need to finally create the generic train and test subsets."
   ]
  },
  {
   "cell_type": "code",
   "execution_count": 150,
   "metadata": {
    "ExecuteTime": {
     "end_time": "2023-10-05T06:06:19.254356Z",
     "start_time": "2023-10-05T06:06:19.223212Z"
    }
   },
   "outputs": [],
   "source": [
    "X_train, X_test, y_train, y_test = train_test_split(num_wave, \n",
    "                                                    y, random_state=27)"
   ]
  },
  {
   "cell_type": "markdown",
   "metadata": {},
   "source": [
    "Then, let me see if I can reduce my processing time by seeing where increasing the number of estimators stops tending to increase accuracy."
   ]
  },
  {
   "cell_type": "code",
   "execution_count": 110,
   "metadata": {
    "ExecuteTime": {
     "end_time": "2023-10-05T00:40:14.834700Z",
     "start_time": "2023-10-05T00:39:09.088017Z"
    }
   },
   "outputs": [],
   "source": [
    "scores_1 = []\n",
    "for i in range(1, 100):\n",
    "    gbc = GradientBoostingClassifier(n_estimators=i)\n",
    "    gbc.fit(X_train, y_train)\n",
    "    preds = gbc.predict(X_test)\n",
    "    scores_1.append(accuracy_score(y_test, preds))"
   ]
  },
  {
   "cell_type": "code",
   "execution_count": 214,
   "metadata": {
    "ExecuteTime": {
     "end_time": "2023-10-05T07:40:05.592765Z",
     "start_time": "2023-10-05T07:40:05.476941Z"
    },
    "scrolled": false
   },
   "outputs": [
    {
     "data": {
      "text/plain": [
       "<matplotlib.lines.Line2D at 0x7fe56023d130>"
      ]
     },
     "execution_count": 214,
     "metadata": {},
     "output_type": "execute_result"
    },
    {
     "data": {
      "image/png": "[encoded data removed]",
      "text/plain": [
       "<Figure size 432x288 with 1 Axes>"
      ]
     },
     "metadata": {
      "needs_background": "light"
     },
     "output_type": "display_data"
    }
   ],
   "source": [
    "plt.plot(range(1, 100), scores_1)\n",
    "plt.xlabel('Number of Trees in GradientBoostedClassifier')\n",
    "plt.ylabel('Testing Accuracy')\n",
    "plt.title(\"Accuracy vs No. of Trees (lines at 30 & .82)\")\n",
    "plt.axvline(30, color = \"red\")\n",
    "plt.axhline(.82, color = \"purple\")"
   ]
  },
  {
   "cell_type": "markdown",
   "metadata": {},
   "source": [
    "That looks like we're getting to the ceiling by about 30."
   ]
  },
  {
   "cell_type": "code",
   "execution_count": 139,
   "metadata": {
    "ExecuteTime": {
     "end_time": "2023-10-05T05:05:07.835813Z",
     "start_time": "2023-10-05T05:04:28.233268Z"
    }
   },
   "outputs": [],
   "source": [
    "scores_2 = []\n",
    "for i in range(1, 100):\n",
    "    gbc = GradientBoostingClassifier(learning_rate=(i/20), n_estimators=30)\n",
    "    gbc.fit(X_train, y_train)\n",
    "    preds = gbc.predict(X_test)\n",
    "    scores_2.append(accuracy_score(y_test, preds))"
   ]
  },
  {
   "cell_type": "code",
   "execution_count": 210,
   "metadata": {
    "ExecuteTime": {
     "end_time": "2023-10-05T07:38:22.317251Z",
     "start_time": "2023-10-05T07:38:22.204521Z"
    },
    "scrolled": true
   },
   "outputs": [
    {
     "data": {
      "text/plain": [
       "''"
      ]
     },
     "execution_count": 210,
     "metadata": {},
     "output_type": "execute_result"
    },
    {
     "data": {
      "image/png": "[encoded data removed]",
      "text/plain": [
       "<Figure size 432x288 with 1 Axes>"
      ]
     },
     "metadata": {
      "needs_background": "light"
     },
     "output_type": "display_data"
    }
   ],
   "source": [
    "fig, ax = plt.subplots()\n",
    "plt.plot(range(1, 100), scores_2)\n",
    "plt.xlabel('Learning rate for GradientBoostedClassifier')\n",
    "plt.ylabel('Testing Accuracy')\n",
    "plt.title(\"Accuracy vs Learning Rate (lines at 0.5 & .79)\")\n",
    "plt.axvline(10, color = \"red\")\n",
    "plt.axhline(.79, color = \"purple\")\n",
    "multiples = range(0, 120, 20)\n",
    "ax.set_xticks(multiples)\n",
    "ax.set_xticklabels([i/20 for i in multiples])\n",
    ";"
   ]
  },
  {
   "cell_type": "markdown",
   "metadata": {},
   "source": [
    "Woah, that's a funny chart. I hope I can one day understand why it has such... noteworthy behavior in those midranges. But for now, I'll stick to values far below 1."
   ]
  },
  {
   "cell_type": "markdown",
   "metadata": {},
   "source": [
    "#### First GradientBoostedClassifier model"
   ]
  },
  {
   "cell_type": "code",
   "execution_count": 153,
   "metadata": {
    "ExecuteTime": {
     "end_time": "2023-10-05T06:21:03.307015Z",
     "start_time": "2023-10-05T06:16:17.742658Z"
    },
    "scrolled": true
   },
   "outputs": [
    {
     "name": "stdout",
     "output_type": "stream",
     "text": [
      "{'learning_rate': 0.1, 'loss': 'exponential', 'max_depth': 4, 'min_samples_leaf': 3, 'min_samples_split': 12, 'n_estimators': 30, 'random_state': 27, 'subsample': 0.55}\n",
      "0.8647945917836714\n"
     ]
    }
   ],
   "source": [
    "# There are a lot of parameters to choose from, so I will keep the number\n",
    "# of choices per parameter low for now.\n",
    "param_grid = {\n",
    "    \"loss\": [\"log_loss\", \"exponential\"],\n",
    "    \"learning_rate\": [.1],\n",
    "    'n_estimators': [30],\n",
    "    'subsample': [0.55, .7, .85, 1],\n",
    "    \"min_samples_split\": [6, 9, 12], # I chose 6 as the smallest one here...\n",
    "    \"min_samples_leaf\": [1, 3], # ... so I can choose a bigger \"big\" leaf\n",
    "    \"max_depth\": [3, 4, 5, None], \n",
    "    # I know this will raise runtime but it's\n",
    "    # the only param that the doc highlights\n",
    "    # as being especially important. So I'll try 4\n",
    "    \"random_state\": [27]\n",
    "}\n",
    "\n",
    "gbc = GradientBoostingClassifier()\n",
    "\n",
    "gs_gbc = GridSearchCV(gbc, param_grid, cv=5)\n",
    "\n",
    "gs_gbc.fit(X_train, y_train)\n",
    "print(gs_gbc.best_params_)\n",
    "print(gs_gbc.score(X_train, y_train))"
   ]
  },
  {
   "cell_type": "markdown",
   "metadata": {},
   "source": [
    "86.5% on the training set means that it's only recovering 7 of the 21 percent between guessing blindly like my logreg models did and an omniscient one. To my mildly-trained-eye this is underfitting.\n",
    "\n",
    "Documentation for the GBC states: \"Choosing subsample < 1.0 leads to a reduction of variance and an increase in bias\"\n",
    "\n",
    "This means that the smaller the subsample the more it underfits. This model landed on the smallest subset value in the grid."
   ]
  },
  {
   "cell_type": "code",
   "execution_count": 158,
   "metadata": {
    "ExecuteTime": {
     "end_time": "2023-10-05T06:22:37.489473Z",
     "start_time": "2023-10-05T06:22:37.472636Z"
    }
   },
   "outputs": [
    {
     "data": {
      "text/plain": [
       "0.8271028037383178"
      ]
     },
     "execution_count": 158,
     "metadata": {},
     "output_type": "execute_result"
    }
   ],
   "source": [
    "gs_gbc.score(X_test, y_test)"
   ]
  },
  {
   "cell_type": "code",
   "execution_count": 159,
   "metadata": {
    "ExecuteTime": {
     "end_time": "2023-10-05T06:22:47.022431Z",
     "start_time": "2023-10-05T06:22:47.013950Z"
    }
   },
   "outputs": [
    {
     "data": {
      "text/plain": [
       "{'1.0': {'precision': 0.8327759197324415,\n",
       "  'recall': 0.9783889980353635,\n",
       "  'f1-score': 0.8997289972899729,\n",
       "  'support': 509},\n",
       " '2.0': {'precision': 0.75,\n",
       "  'recall': 0.24812030075187969,\n",
       "  'f1-score': 0.37288135593220334,\n",
       "  'support': 133},\n",
       " 'accuracy': 0.8271028037383178,\n",
       " 'macro avg': {'precision': 0.7913879598662208,\n",
       "  'recall': 0.6132546493936216,\n",
       "  'f1-score': 0.6363051766110881,\n",
       "  'support': 642},\n",
       " 'weighted avg': {'precision': 0.8156276372956586,\n",
       "  'recall': 0.8271028037383178,\n",
       "  'f1-score': 0.7905845482236437,\n",
       "  'support': 642}}"
      ]
     },
     "execution_count": 159,
     "metadata": {},
     "output_type": "execute_result"
    }
   ],
   "source": [
    "classification_report(y_test, gs_gbc.predict(X_test), output_dict=True)"
   ]
  },
  {
   "cell_type": "code",
   "execution_count": 160,
   "metadata": {
    "ExecuteTime": {
     "end_time": "2023-10-05T06:22:56.396237Z",
     "start_time": "2023-10-05T06:22:56.307460Z"
    }
   },
   "outputs": [
    {
     "data": {
      "text/plain": [
       "<sklearn.metrics._plot.confusion_matrix.ConfusionMatrixDisplay at 0x7fe580c829d0>"
      ]
     },
     "execution_count": 160,
     "metadata": {},
     "output_type": "execute_result"
    },
    {
     "data": {
      "image/png": "[encoded data removed]",
      "text/plain": [
       "<Figure size 432x288 with 2 Axes>"
      ]
     },
     "metadata": {
      "needs_background": "light"
     },
     "output_type": "display_data"
    }
   ],
   "source": [
    "y_hat_test_gbc = gs_gbc.predict(X_test)\n",
    "\n",
    "cnf_matrix_gbc = confusion_matrix(y_test, y_hat_test_gbc)\n",
    "\n",
    "disp_gbc = ConfusionMatrixDisplay(confusion_matrix=cnf_matrix_gbc,\n",
    "                              display_labels=gs_gbc.classes_)\n",
    "disp_gbc.plot(cmap=plt.cm.bone)"
   ]
  },
  {
   "cell_type": "markdown",
   "metadata": {},
   "source": [
    "Nearly 98% recall for the majority class sounds pretty absurd. But there are too many issues with the other scores for me to be happy. A 0.37 f1 score for the minority class is really rough. Also the overall accuracy is not impressive."
   ]
  },
  {
   "cell_type": "markdown",
   "metadata": {},
   "source": [
    "So I still suspect that the model is underfitting. To get it to fit a bit more tightly, I want to raise the variance."
   ]
  },
  {
   "cell_type": "markdown",
   "metadata": {},
   "source": [
    "#### Second GradientBoostedClassifier: Overfitting attempt"
   ]
  },
  {
   "cell_type": "code",
   "execution_count": 170,
   "metadata": {
    "ExecuteTime": {
     "end_time": "2023-10-05T06:44:35.039094Z",
     "start_time": "2023-10-05T06:44:26.493132Z"
    },
    "scrolled": true
   },
   "outputs": [
    {
     "name": "stdout",
     "output_type": "stream",
     "text": [
      "{'criterion': 'friedman_mse', 'learning_rate': 0.1, 'loss': 'exponential', 'max_depth': None, 'max_features': None, 'min_samples_leaf': 1, 'min_samples_split': 2, 'n_estimators': 30, 'random_state': 27, 'subsample': 1}\n",
      "1.0\n"
     ]
    }
   ],
   "source": [
    "param_grid = {\n",
    "    \"loss\": [\"log_loss\", \"exponential\"],\n",
    "    \"criterion\": [\"friedman_mse\", \"squared_error\"],\n",
    "    #Added \"criterion\" to the GS since I had room for more params this time\n",
    "    \"learning_rate\": [.1],\n",
    "    'n_estimators': [30],\n",
    "    'subsample': [1],\n",
    "    \"max_features\": [None],\n",
    "    \"min_samples_split\": [2], \n",
    "    \"min_samples_leaf\": [1],\n",
    "    \"max_depth\": [None],\n",
    "    \"random_state\": [27]\n",
    "    #Essentially I'm explicitly telling it to swing all the way to the other\n",
    "    #end of the spectrum.\n",
    "}\n",
    "\n",
    "gs_gbc_overfit = GridSearchCV(gbc, param_grid, cv=5)\n",
    "    \n",
    "gs_gbc_overfit.fit(X_train, y_train)\n",
    "print(gs_gbc_overfit.best_params_)\n",
    "print(gs_gbc_overfit.score(X_train, y_train))"
   ]
  },
  {
   "cell_type": "code",
   "execution_count": 168,
   "metadata": {
    "ExecuteTime": {
     "end_time": "2023-10-05T06:29:50.295838Z",
     "start_time": "2023-10-05T06:29:50.283775Z"
    }
   },
   "outputs": [
    {
     "data": {
      "text/plain": [
       "{'1.0': {'precision': 0.8408644400785854,\n",
       "  'recall': 0.8408644400785854,\n",
       "  'f1-score': 0.8408644400785854,\n",
       "  'support': 509},\n",
       " '2.0': {'precision': 0.39097744360902253,\n",
       "  'recall': 0.39097744360902253,\n",
       "  'f1-score': 0.39097744360902253,\n",
       "  'support': 133},\n",
       " 'accuracy': 0.7476635514018691,\n",
       " 'macro avg': {'precision': 0.615920941843804,\n",
       "  'recall': 0.615920941843804,\n",
       "  'f1-score': 0.615920941843804,\n",
       "  'support': 642},\n",
       " 'weighted avg': {'precision': 0.7476635514018691,\n",
       "  'recall': 0.7476635514018691,\n",
       "  'f1-score': 0.7476635514018691,\n",
       "  'support': 642}}"
      ]
     },
     "execution_count": 168,
     "metadata": {},
     "output_type": "execute_result"
    }
   ],
   "source": [
    "gs_gbc_overfit.score(X_test, y_test)\n",
    "classification_report(y_test, gs_gbc_overfit.predict(X_test), output_dict=True)"
   ]
  },
  {
   "cell_type": "markdown",
   "metadata": {},
   "source": [
    "Well, I definitely created the monster I was hoping for. This was a profoundly overfitting model.\n",
    "\n",
    "So let's search for a sweetspot. Generally speaking, I'm choosing values that are around the geometric mean of the two previous models' hyperparameters. I intuitively believe that the geometric mean is more useful than the arithmetic mean since most relationships between numbers are proportional/multiplicative.\n",
    "\n",
    "I ran into a snag in this process, however: I can't figure out what the maximum depth the previous classifier actually reached! So I am going to make a best guess by using a generic decision tree classifier which comes equipped with an easy to access max_depth figure."
   ]
  },
  {
   "cell_type": "code",
   "execution_count": 190,
   "metadata": {
    "ExecuteTime": {
     "end_time": "2023-10-05T07:04:06.957657Z",
     "start_time": "2023-10-05T07:04:05.184845Z"
    },
    "scrolled": true
   },
   "outputs": [
    {
     "name": "stdout",
     "output_type": "stream",
     "text": [
      "14\n"
     ]
    }
   ],
   "source": [
    "clf = tree.DecisionTreeClassifier()\n",
    "clf = clf.fit(X_train, y_train)\n",
    "print(clf.tree_.max_depth)"
   ]
  },
  {
   "cell_type": "markdown",
   "metadata": {},
   "source": [
    "So I'll use 14 as my stand in for the calculation. The geometric mean of 14 and 4 is about 7.5"
   ]
  },
  {
   "cell_type": "markdown",
   "metadata": {},
   "source": [
    "#### Third GradientBoostedClassifier attempt: A middleground?"
   ]
  },
  {
   "cell_type": "code",
   "execution_count": 197,
   "metadata": {
    "ExecuteTime": {
     "end_time": "2023-10-05T07:16:39.981007Z",
     "start_time": "2023-10-05T07:16:30.775186Z"
    },
    "scrolled": true
   },
   "outputs": [
    {
     "name": "stdout",
     "output_type": "stream",
     "text": [
      "{'learning_rate': 0.1, 'loss': 'exponential', 'max_depth': 6, 'max_features': 55, 'min_samples_leaf': 2, 'min_samples_split': 4, 'n_estimators': 30, 'random_state': 27, 'subsample': 0.85}\n",
      "0.9490379615184608\n"
     ]
    }
   ],
   "source": [
    "param_grid = {\n",
    "    \"loss\": [\"exponential\"], #exponential won each time before\n",
    "    \"learning_rate\": [.1],\n",
    "    'n_estimators': [30],\n",
    "    'subsample': [.75, .85],\n",
    "    \"max_features\": [55],\n",
    "    \"min_samples_split\": [4,5], \n",
    "    \"min_samples_leaf\": [2],\n",
    "    \"max_depth\": [6, 8],\n",
    "    \"random_state\": [27]\n",
    "}\n",
    "\n",
    "gs_gbc_mid = GridSearchCV(gbc, param_grid, cv=5)\n",
    "    \n",
    "gs_gbc_mid.fit(X_train, y_train)\n",
    "print(gs_gbc_mid.best_params_)\n",
    "print(gs_gbc_mid.score(X_train, y_train))"
   ]
  },
  {
   "cell_type": "markdown",
   "metadata": {},
   "source": [
    "94.9% accuracy on the training set is *exactly* what I was hoping for. And the verdict on test data is..."
   ]
  },
  {
   "cell_type": "code",
   "execution_count": 196,
   "metadata": {
    "ExecuteTime": {
     "end_time": "2023-10-05T07:16:20.982987Z",
     "start_time": "2023-10-05T07:16:20.970439Z"
    }
   },
   "outputs": [
    {
     "name": "stdout",
     "output_type": "stream",
     "text": [
      "0.8161993769470405\n"
     ]
    },
    {
     "data": {
      "text/plain": [
       "{'1.0': {'precision': 0.8252911813643927,\n",
       "  'recall': 0.9744597249508841,\n",
       "  'f1-score': 0.8936936936936938,\n",
       "  'support': 509},\n",
       " '2.0': {'precision': 0.6829268292682927,\n",
       "  'recall': 0.21052631578947367,\n",
       "  'f1-score': 0.3218390804597701,\n",
       "  'support': 133},\n",
       " 'accuracy': 0.8161993769470405,\n",
       " 'macro avg': {'precision': 0.7541090053163427,\n",
       "  'recall': 0.5924930203701788,\n",
       "  'f1-score': 0.6077663870767319,\n",
       "  'support': 642},\n",
       " 'weighted avg': {'precision': 0.7957982548398113,\n",
       "  'recall': 0.8161993769470405,\n",
       "  'f1-score': 0.7752253703913389,\n",
       "  'support': 642}}"
      ]
     },
     "execution_count": 196,
     "metadata": {},
     "output_type": "execute_result"
    }
   ],
   "source": [
    "print(gs_gbc_mid.score(X_test, y_test))\n",
    "classification_report(y_test, gs_gbc_mid.predict(X_test), output_dict=True)"
   ]
  },
  {
   "cell_type": "code",
   "execution_count": 57,
   "metadata": {
    "ExecuteTime": {
     "end_time": "2023-10-04T09:46:20.009618Z",
     "start_time": "2023-10-04T09:46:19.916747Z"
    },
    "scrolled": true
   },
   "outputs": [
    {
     "data": {
      "text/plain": [
       "<sklearn.metrics._plot.confusion_matrix.ConfusionMatrixDisplay at 0x7fe5a02410a0>"
      ]
     },
     "execution_count": 57,
     "metadata": {},
     "output_type": "execute_result"
    },
    {
     "data": {
      "image/png": "[encoded data removed]",
      "text/plain": [
       "<Figure size 432x288 with 2 Axes>"
      ]
     },
     "metadata": {
      "needs_background": "light"
     },
     "output_type": "display_data"
    }
   ],
   "source": [
    "y_hat_test_gbc = gs_gbc_2.predict(X_test)\n",
    "\n",
    "cnf_matrix_gbc = confusion_matrix(y_test, y_hat_test_gbc)\n",
    "\n",
    "disp_gbc = ConfusionMatrixDisplay(confusion_matrix=cnf_matrix_gbc,\n",
    "                              display_labels=gs_gbc.classes_)\n",
    "disp_gbc.plot(cmap=plt.cm.bone)"
   ]
  },
  {
   "cell_type": "markdown",
   "metadata": {},
   "source": [
    "...not good. This model actually performed worse than the first model (which I accused of underfitting). Its scores on the majority class were fair but it fell short classifying the minority class. Its f1 score for atheists was even smaller than that of the overfitter. \n",
    "\n",
    "It seems as though, for now, the initial GBC model is the benchmark to beat."
   ]
  },
  {
   "cell_type": "markdown",
   "metadata": {},
   "source": [
    "### Current high scores:\n",
    "#### Accuracy of  82.7%, minority class f1 of .37, and weighted f1 score of .791."
   ]
  },
  {
   "cell_type": "markdown",
   "metadata": {},
   "source": [
    "# Complex Model: Random Forest\n",
    "\n",
    "As suggested in the prompt for this project, the last model will be a Random Forest. \n",
    "\n",
    "Learning from my experience with the GBC model, I will preemptively try three models: one with hyperparameters that promote overfitting, one that promotes underfitting, and something with more of a middle ground.\n",
    "\n",
    "The random forest has a *lot* of possible knobs to turn, and in my naive state as a new data scientist I cannot quite tell which ones are most important. But at the very least I know I've seen how to approximate how many trees I should make."
   ]
  },
  {
   "cell_type": "code",
   "execution_count": 215,
   "metadata": {
    "ExecuteTime": {
     "end_time": "2023-10-05T07:40:47.578888Z",
     "start_time": "2023-10-05T07:40:32.144258Z"
    }
   },
   "outputs": [],
   "source": [
    "#Assessing test scores for simple random forests with varying amounts of trees\n",
    "scores = []\n",
    "for i in range(1, 100):\n",
    "    rfc = RandomForestClassifier(n_estimators=i)\n",
    "    rfc.fit(X_train, y_train)\n",
    "    preds = rfc.predict(X_test)\n",
    "    scores.append(accuracy_score(y_test, preds))"
   ]
  },
  {
   "cell_type": "code",
   "execution_count": 219,
   "metadata": {
    "ExecuteTime": {
     "end_time": "2023-10-05T07:41:58.738769Z",
     "start_time": "2023-10-05T07:41:58.628230Z"
    }
   },
   "outputs": [
    {
     "data": {
      "text/plain": [
       "<matplotlib.lines.Line2D at 0x7fe5807c3760>"
      ]
     },
     "execution_count": 219,
     "metadata": {},
     "output_type": "execute_result"
    },
    {
     "data": {
      "image/png": "[encoded data removed]",
      "text/plain": [
       "<Figure size 432x288 with 1 Axes>"
      ]
     },
     "metadata": {
      "needs_background": "light"
     },
     "output_type": "display_data"
    }
   ],
   "source": [
    "plt.plot(range(1, 100), scores)\n",
    "plt.xlabel('Number of Trees in the Random Forest')\n",
    "plt.ylabel('Testing Accuracy')\n",
    "plt.title(\"Accuracy vs No. of Trees (lines at 25 & .8125)\")\n",
    "plt.axvline(25, color = \"red\")\n",
    "plt.axhline(.8125, color = \"purple\")"
   ]
  },
  {
   "cell_type": "markdown",
   "metadata": {},
   "source": [
    "To my surprise, we only need a couple dozen trees to reach an asymptote of test accuracy."
   ]
  },
  {
   "cell_type": "code",
   "execution_count": 220,
   "metadata": {
    "ExecuteTime": {
     "end_time": "2023-10-05T07:42:49.161609Z",
     "start_time": "2023-10-05T07:42:25.883212Z"
    }
   },
   "outputs": [
    {
     "name": "stdout",
     "output_type": "stream",
     "text": [
      "{'class_weight': None, 'criterion': 'entropy', 'max_depth': None, 'max_features': None, 'min_samples_leaf': 1, 'n_estimators': 25, 'oob_score': True, 'random_state': 27}\n",
      "score =  0.9984399375975039\n"
     ]
    }
   ],
   "source": [
    "#First: the Overfitter\n",
    "forest = RandomForestClassifier()\n",
    "\n",
    "param_grid = {\n",
    "    \"criterion\": [\"gini\", \"entropy\"],\n",
    "    'n_estimators': [25],\n",
    "    \"max_features\": [None], # no max = high variance = overfitting\n",
    "    \"min_samples_leaf\": [1], # no minimum leaf size means more granularity\n",
    "    \"max_depth\": [None], # max depth = max purity\n",
    "    \"class_weight\": [\"balanced\", None],\n",
    "    \"oob_score\": [True, False],\n",
    "    \"random_state\": [27]\n",
    "}\n",
    "\n",
    "gs_forest_over = GridSearchCV(forest, param_grid, cv=5)\n",
    "gs_forest_over.fit(X_train, y_train)\n",
    "\n",
    "print(gs_forest_over.best_params_)\n",
    "print(\"score = \", gs_forest_over.score(X_train, y_train))"
   ]
  },
  {
   "cell_type": "markdown",
   "metadata": {},
   "source": [
    "A nearly perfectly fit training model, which is essentially what I was hoping for to try my experiment.\n",
    "\n",
    "In order to calibrate the \"medium fit\" forest, I'm just going to double check how many columns there are..."
   ]
  },
  {
   "cell_type": "code",
   "execution_count": 225,
   "metadata": {
    "ExecuteTime": {
     "end_time": "2023-10-05T07:45:06.471919Z",
     "start_time": "2023-10-05T07:45:06.465242Z"
    }
   },
   "outputs": [
    {
     "data": {
      "text/plain": [
       "221"
      ]
     },
     "execution_count": 225,
     "metadata": {},
     "output_type": "execute_result"
    }
   ],
   "source": [
    "# Double checking how many possible estimators there could be\n",
    "len(X_train.columns)"
   ]
  },
  {
   "cell_type": "markdown",
   "metadata": {},
   "source": [
    "...and see how deep those trees just grew."
   ]
  },
  {
   "cell_type": "code",
   "execution_count": 221,
   "metadata": {
    "ExecuteTime": {
     "end_time": "2023-10-05T07:42:59.850226Z",
     "start_time": "2023-10-05T07:42:59.072901Z"
    }
   },
   "outputs": [
    {
     "name": "stdout",
     "output_type": "stream",
     "text": [
      "Median max depth:  16.0\n",
      "Maximim max depth:  21\n"
     ]
    }
   ],
   "source": [
    "#The actual used depth for the trees was well-hidden information\n",
    "\n",
    "# the following code was repurposed from\n",
    "#https://datascience.stackexchange.com/questions/19842/\n",
    "# anyway-to-know-all-details-of-trees-grown-using-randomforestclassifier-in-\n",
    "# scikit/36228#36228\n",
    "\n",
    "over_forest = RandomForestClassifier(criterion=\"gini\", n_estimators = 220, \n",
    "                                    oob_score= True, random_state= 27)\n",
    "over_forest.fit(X_train, y_train)\n",
    "print(\"Median max depth: \", np.median([t.get_depth() \n",
    "                                       for t in over_forest.estimators_]))\n",
    "print(\"Maximim max depth: \", max([t.get_depth() \n",
    "                                  for t in over_forest.estimators_]))"
   ]
  },
  {
   "cell_type": "code",
   "execution_count": 222,
   "metadata": {
    "ExecuteTime": {
     "end_time": "2023-10-05T07:43:30.682297Z",
     "start_time": "2023-10-05T07:43:09.764914Z"
    }
   },
   "outputs": [
    {
     "name": "stdout",
     "output_type": "stream",
     "text": [
      "{'class_weight': None, 'criterion': 'gini', 'max_depth': 8, 'max_features': 110, 'min_samples_leaf': 3, 'n_estimators': 25, 'oob_score': True, 'random_state': 27}\n",
      "0.9339573582943318\n"
     ]
    }
   ],
   "source": [
    "#Second: the Mid-fitter\n",
    "param_grid = {\n",
    "    \"criterion\": [\"gini\", \"entropy\"],\n",
    "    'n_estimators': [25],\n",
    "    \"max_features\": [110], #half of the features in the set\n",
    "    \"min_samples_leaf\": [3], # a step above 1\n",
    "    \"max_depth\": [8, 10], # around half the previous max\n",
    "    \"class_weight\": [\"balanced\", None],\n",
    "    \"oob_score\": [True, False],\n",
    "    \"random_state\": [27]\n",
    "}\n",
    "\n",
    "gs_forest_mid = GridSearchCV(forest, param_grid, cv=5)\n",
    "    \n",
    "gs_forest_mid.fit(X_train, y_train)\n",
    "print(gs_forest_mid.best_params_)\n",
    "print(gs_forest_mid.score(X_train, y_train))"
   ]
  },
  {
   "cell_type": "markdown",
   "metadata": {},
   "source": [
    "93% training accuracy is about what I expected.Far enough away from the 99.8% in the previous model that I feel good about its niche in the experiment."
   ]
  },
  {
   "cell_type": "code",
   "execution_count": 226,
   "metadata": {
    "ExecuteTime": {
     "end_time": "2023-10-05T07:47:41.700758Z",
     "start_time": "2023-10-05T07:47:37.554539Z"
    }
   },
   "outputs": [
    {
     "name": "stdout",
     "output_type": "stream",
     "text": [
      "{'class_weight': None, 'criterion': 'entropy', 'max_depth': 6, 'max_features': 'sqrt', 'min_samples_leaf': 5, 'n_estimators': 25, 'oob_score': True, 'random_state': 27}\n",
      "0.8387935517420697\n"
     ]
    }
   ],
   "source": [
    "#Lastly: the under-fitter\n",
    "\n",
    "param_grid = {\n",
    "    \"criterion\": [\"gini\", \"entropy\"],\n",
    "    'n_estimators': [25],\n",
    "    \"max_features\": [\"sqrt\"],\n",
    "    \"min_samples_leaf\": [5], # a step above 3\n",
    "    \"max_depth\": [5, 6], # halving the prev max depths may be too dramatic\n",
    "    \"class_weight\": [\"balanced\", None],\n",
    "    \"oob_score\": [True, False],\n",
    "    \"random_state\": [27]\n",
    "}\n",
    "\n",
    "gs_forest_under = GridSearchCV(forest, param_grid, cv=5)\n",
    "    \n",
    "gs_forest_under.fit(X_train, y_train)\n",
    "print(gs_forest_under.best_params_)\n",
    "print(gs_forest_under.score(X_train, y_train))"
   ]
  },
  {
   "cell_type": "markdown",
   "metadata": {},
   "source": [
    "Something interesting to note: When given the choice, no model has yet chosen to apply weight to the classes. I wonder if this means that a class ratio of 5:1 is not considered unbalanced enough for the \"weights\" feature to be very useful?"
   ]
  },
  {
   "cell_type": "markdown",
   "metadata": {},
   "source": [
    "### The scores for the forests"
   ]
  },
  {
   "cell_type": "code",
   "execution_count": 227,
   "metadata": {
    "ExecuteTime": {
     "end_time": "2023-10-05T07:48:04.534119Z",
     "start_time": "2023-10-05T07:48:04.495359Z"
    },
    "scrolled": false
   },
   "outputs": [
    {
     "name": "stdout",
     "output_type": "stream",
     "text": [
      "overfit accuracy scores= 0.8193146417445483\n",
      "midfit accuracy scores= 0.8208722741433022\n",
      "underfit accuracy scores= 0.8115264797507789\n"
     ]
    }
   ],
   "source": [
    "print(\"overfit accuracy scores=\", gs_forest_over.score(X_test, y_test))\n",
    "print(\"midfit accuracy scores=\", gs_forest_mid.score(X_test, y_test))\n",
    "print(\"underfit accuracy scores=\", gs_forest_under.score(X_test, y_test))"
   ]
  },
  {
   "cell_type": "markdown",
   "metadata": {},
   "source": [
    "My somewhat arbitrarily chosen middle-ground just barely edges out the \"overfitter\". But I am especially interested in the recall scores for each model regarding the minority case:"
   ]
  },
  {
   "cell_type": "code",
   "execution_count": 99,
   "metadata": {
    "ExecuteTime": {
     "end_time": "2023-10-05T00:11:34.669685Z",
     "start_time": "2023-10-05T00:11:34.641328Z"
    },
    "scrolled": true
   },
   "outputs": [
    {
     "data": {
      "text/plain": [
       "{'1.0': {'precision': 0.8417391304347827,\n",
       "  'recall': 0.9508840864440079,\n",
       "  'f1-score': 0.8929889298892989,\n",
       "  'support': 509},\n",
       " '2.0': {'precision': 0.6268656716417911,\n",
       "  'recall': 0.3157894736842105,\n",
       "  'f1-score': 0.42,\n",
       "  'support': 133},\n",
       " 'accuracy': 0.8193146417445483,\n",
       " 'macro avg': {'precision': 0.7343024010382868,\n",
       "  'recall': 0.6333367800641092,\n",
       "  'f1-score': 0.6564944649446495,\n",
       "  'support': 642},\n",
       " 'weighted avg': {'precision': 0.7972248469153623,\n",
       "  'recall': 0.8193146417445483,\n",
       "  'f1-score': 0.7950021266567806,\n",
       "  'support': 642}}"
      ]
     },
     "execution_count": 99,
     "metadata": {},
     "output_type": "execute_result"
    }
   ],
   "source": [
    "#Overfitter scores\n",
    "classification_report(y_test, gs_forest_over.predict(X_test), output_dict=True)"
   ]
  },
  {
   "cell_type": "code",
   "execution_count": 100,
   "metadata": {
    "ExecuteTime": {
     "end_time": "2023-10-05T00:11:49.194097Z",
     "start_time": "2023-10-05T00:11:49.166009Z"
    }
   },
   "outputs": [
    {
     "data": {
      "text/plain": [
       "{'1.0': {'precision': 0.8283333333333334,\n",
       "  'recall': 0.9764243614931237,\n",
       "  'f1-score': 0.8963029756537421,\n",
       "  'support': 509},\n",
       " '2.0': {'precision': 0.7142857142857143,\n",
       "  'recall': 0.22556390977443608,\n",
       "  'f1-score': 0.3428571428571428,\n",
       "  'support': 133},\n",
       " 'accuracy': 0.8208722741433022,\n",
       " 'macro avg': {'precision': 0.7713095238095238,\n",
       "  'recall': 0.6009941356337799,\n",
       "  'f1-score': 0.6195800592554425,\n",
       "  'support': 642},\n",
       " 'weighted avg': {'precision': 0.8047066458982347,\n",
       "  'recall': 0.8208722741433022,\n",
       "  'f1-score': 0.7816483093578734,\n",
       "  'support': 642}}"
      ]
     },
     "execution_count": 100,
     "metadata": {},
     "output_type": "execute_result"
    }
   ],
   "source": [
    "#Midfitter scores\n",
    "classification_report(y_test, gs_forest_mid.predict(X_test), output_dict=True)"
   ]
  },
  {
   "cell_type": "code",
   "execution_count": 101,
   "metadata": {
    "ExecuteTime": {
     "end_time": "2023-10-05T00:12:04.103123Z",
     "start_time": "2023-10-05T00:12:04.077735Z"
    },
    "scrolled": false
   },
   "outputs": [
    {
     "data": {
      "text/plain": [
       "{'1.0': {'precision': 0.8099041533546326,\n",
       "  'recall': 0.9960707269155207,\n",
       "  'f1-score': 0.8933920704845817,\n",
       "  'support': 509},\n",
       " '2.0': {'precision': 0.875,\n",
       "  'recall': 0.10526315789473684,\n",
       "  'f1-score': 0.1879194630872483,\n",
       "  'support': 133},\n",
       " 'accuracy': 0.8115264797507789,\n",
       " 'macro avg': {'precision': 0.8424520766773163,\n",
       "  'recall': 0.5506669424051287,\n",
       "  'f1-score': 0.540655766785915,\n",
       "  'support': 642},\n",
       " 'weighted avg': {'precision': 0.823389741522598,\n",
       "  'recall': 0.8115264797507789,\n",
       "  'f1-score': 0.7472427608524239,\n",
       "  'support': 642}}"
      ]
     },
     "execution_count": 101,
     "metadata": {},
     "output_type": "execute_result"
    }
   ],
   "source": [
    "#Underfitter scores\n",
    "classification_report(y_test, gs_forest_under.predict(X_test), output_dict=True)"
   ]
  },
  {
   "cell_type": "markdown",
   "metadata": {},
   "source": [
    "I've had to run this test a couple of times, and each time the best option for recall of the minority case was either the \"overfitter\" or middle of the road option. It's been fairly sensitive to small perturbations in hyperparameters, so let's see if I can zero in on what's causing it to be this way."
   ]
  },
  {
   "cell_type": "markdown",
   "metadata": {},
   "source": [
    "#### The \"overfit\" model overall has the best scores, with 81.9% accuracy, a high f1 score for atheists of .42, and a relatively high weighted f1 score of .795.\n",
    "\n",
    "This is all very comparable to the best gradient boosted classifier scores as well. I will barely give the edge to the random forest, however, because it is marginally better at identifying atheists."
   ]
  },
  {
   "cell_type": "markdown",
   "metadata": {},
   "source": [
    "#  Final model\n",
    "\n",
    "Let me see if I can maximize the scores for the atheists. Using the middle and overfit models above as a template, let me slightly adjust the parameters a bit around what I had previously arbitrarily landed on."
   ]
  },
  {
   "cell_type": "code",
   "execution_count": 256,
   "metadata": {
    "ExecuteTime": {
     "end_time": "2023-10-05T09:42:11.356907Z",
     "start_time": "2023-10-05T09:41:05.844147Z"
    }
   },
   "outputs": [
    {
     "name": "stdout",
     "output_type": "stream",
     "text": [
      "{'class_weight': 'balanced', 'criterion': 'entropy', 'max_depth': 9, 'max_features': 185, 'min_samples_leaf': 1, 'n_estimators': 25, 'oob_score': True, 'random_state': 27}\n",
      "0.9641185647425897\n"
     ]
    }
   ],
   "source": [
    "param_grid = {\n",
    "    \"criterion\": [\"entropy\"], \n",
    "    'n_estimators': [25],\n",
    "    \"max_features\": [155, 170, 185],\n",
    "    \"min_samples_leaf\": [1, 2], \n",
    "    # I read that some people have min leaves with 50 or more. Surprised me\n",
    "    \"max_depth\": [7, 8, 9],\n",
    "    \"class_weight\": [\"balanced\", None],\n",
    "    \"oob_score\": [True],\n",
    "    \"random_state\": [27]\n",
    "}\n",
    "\n",
    "gs_forest_final_1 = GridSearchCV(forest, param_grid, cv=5)\n",
    "\n",
    "gs_forest_final_1.fit(X_train, y_train)\n",
    "print(gs_forest_final_1.best_params_)\n",
    "print(gs_forest_final_1.score(X_train, y_train))"
   ]
  },
  {
   "cell_type": "code",
   "execution_count": 257,
   "metadata": {
    "ExecuteTime": {
     "end_time": "2023-10-05T09:42:21.540429Z",
     "start_time": "2023-10-05T09:42:21.525135Z"
    },
    "scrolled": false
   },
   "outputs": [
    {
     "name": "stdout",
     "output_type": "stream",
     "text": [
      "0.8006230529595015\n"
     ]
    },
    {
     "data": {
      "text/plain": [
       "{'1.0': {'precision': 0.8614800759013282,\n",
       "  'recall': 0.8919449901768173,\n",
       "  'f1-score': 0.8764478764478764,\n",
       "  'support': 509},\n",
       " '2.0': {'precision': 0.5217391304347826,\n",
       "  'recall': 0.45112781954887216,\n",
       "  'f1-score': 0.48387096774193544,\n",
       "  'support': 133},\n",
       " 'accuracy': 0.8006230529595015,\n",
       " 'macro avg': {'precision': 0.6916096031680554,\n",
       "  'recall': 0.6715364048628447,\n",
       "  'f1-score': 0.6801594220949059,\n",
       "  'support': 642},\n",
       " 'weighted avg': {'precision': 0.7910976058903461,\n",
       "  'recall': 0.8006230529595015,\n",
       "  'f1-score': 0.7951196383514744,\n",
       "  'support': 642}}"
      ]
     },
     "execution_count": 257,
     "metadata": {},
     "output_type": "execute_result"
    }
   ],
   "source": [
    "print(gs_forest_final_1.score(X_test, y_test))\n",
    "classification_report(y_test, gs_forest_final_1.predict(X_test), output_dict=True)"
   ]
  },
  {
   "cell_type": "code",
   "execution_count": 258,
   "metadata": {
    "ExecuteTime": {
     "end_time": "2023-10-05T09:42:31.767808Z",
     "start_time": "2023-10-05T09:42:31.671886Z"
    },
    "scrolled": true
   },
   "outputs": [
    {
     "data": {
      "text/plain": [
       "<sklearn.metrics._plot.confusion_matrix.ConfusionMatrixDisplay at 0x7fe5a03f2c10>"
      ]
     },
     "execution_count": 258,
     "metadata": {},
     "output_type": "execute_result"
    },
    {
     "data": {
      "image/png": "[encoded data removed]",
      "text/plain": [
       "<Figure size 432x288 with 2 Axes>"
      ]
     },
     "metadata": {
      "needs_background": "light"
     },
     "output_type": "display_data"
    }
   ],
   "source": [
    "y_hat_test = gs_forest_final.predict(X_test)\n",
    "\n",
    "cnf_matrix = confusion_matrix(y_test, y_hat_test)\n",
    "\n",
    "disp_gbc = ConfusionMatrixDisplay(confusion_matrix=cnf_matrix,\n",
    "                              display_labels=gs_forest_final.classes_)\n",
    "disp_gbc.plot(cmap=plt.cm.bone)"
   ]
  },
  {
   "cell_type": "markdown",
   "metadata": {},
   "source": [
    "Hey, would you look at that. I managed to bring the precision and recall for the 2.0 answers close together, resulting in a relatively robust harmonic mean (f1) of .483 for the minority case! But, oddly enough, my overall accuracy is down to about 80%."
   ]
  },
  {
   "cell_type": "markdown",
   "metadata": {},
   "source": [
    "#### Do I think this model is my best one? Yes.\n",
    "Why? Over the course of the project, I noticed that there weren't models that could find atheists with any consistency. This was also true with all of the redo models I had to make during the surprisingly large amount of time that I spent on this project.\n",
    "\n",
    "On earlier iterations, I did find a random forest that was able to reach a recall score for atheists nearing 55%, but that was back when I had a strong religion-associated column still in the pool.\n",
    "\n",
    "I have at least one hypothesis for why the atheists were so difficult to track down: while some religious people tend to coalesce around certain positive/negative stereotypes, plenty of them do not. Those religious people who don't conform to those stereotypes are possibly mostly indistinguishable from atheists, since as a collective both of these groups could make up a hyperdiverse population with few features that bind any of them together.\n",
    "\n",
    "Being able to make a guess for atheists that are over 50% accurate is ultimately satisfying. I could easily imagine a business that wants to send out a newsletter or targeted advertising to this minority group, and I would feel happy to recommend my model. Rather than send out ads blindly to 100% of the population in order to reach 20% of it, my model would allow the business to send smarter ads to 20% of the population in order to reach about 10% of it. Much more efficient."
   ]
  },
  {
   "cell_type": "markdown",
   "metadata": {},
   "source": [
    "One last thing: Let's see what questions were the most important for my model!"
   ]
  },
  {
   "cell_type": "code",
   "execution_count": 263,
   "metadata": {
    "ExecuteTime": {
     "end_time": "2023-10-05T09:50:24.866729Z",
     "start_time": "2023-10-05T09:50:24.860141Z"
    }
   },
   "outputs": [],
   "source": [
    "#The following series of cells code were altered from an answer found on\n",
    "#inria.github.io/scikit-learn-mooc/python_scripts/dev_features_importance.html\n",
    "final_model = RandomForestClassifier(criterion = 'entropy', max_depth = 9,\n",
    "                              max_features = 185, min_samples_leaf = 1, \n",
    "                              n_estimators = 25, class_weight = \"balanced\",\n",
    "                              oob_score = True, random_state = 27)"
   ]
  },
  {
   "cell_type": "code",
   "execution_count": 264,
   "metadata": {
    "ExecuteTime": {
     "end_time": "2023-10-05T09:50:35.682409Z",
     "start_time": "2023-10-05T09:50:35.131745Z"
    },
    "scrolled": true
   },
   "outputs": [
    {
     "data": {
      "text/plain": [
       "RandomForestClassifier(class_weight='balanced', criterion='entropy',\n",
       "                       max_depth=9, max_features=185, n_estimators=25,\n",
       "                       oob_score=True, random_state=27)"
      ]
     },
     "execution_count": 264,
     "metadata": {},
     "output_type": "execute_result"
    }
   ],
   "source": [
    "final_model.fit(X_train, y_train)"
   ]
  },
  {
   "cell_type": "code",
   "execution_count": 265,
   "metadata": {
    "ExecuteTime": {
     "end_time": "2023-10-05T09:50:45.780763Z",
     "start_time": "2023-10-05T09:50:45.773737Z"
    },
    "scrolled": true
   },
   "outputs": [
    {
     "data": {
      "text/plain": [
       "0.8006230529595015"
      ]
     },
     "execution_count": 265,
     "metadata": {},
     "output_type": "execute_result"
    }
   ],
   "source": [
    "final_model.score(X_test, y_test)"
   ]
  },
  {
   "cell_type": "code",
   "execution_count": 269,
   "metadata": {
    "ExecuteTime": {
     "end_time": "2023-10-05T09:53:11.039617Z",
     "start_time": "2023-10-05T09:53:10.898224Z"
    }
   },
   "outputs": [
    {
     "data": {
      "image/png": "[encoded data removed]",
      "text/plain": [
       "<Figure size 432x288 with 1 Axes>"
      ]
     },
     "metadata": {
      "needs_background": "light"
     },
     "output_type": "display_data"
    }
   ],
   "source": [
    "importances = final_model.feature_importances_\n",
    "indices = np.argsort(importances)\n",
    "\n",
    "top_12 = indices[-12:]\n",
    "\n",
    "fig, ax = plt.subplots()\n",
    "ax.barh(range(12), importances[top_12])\n",
    "ax.set_yticks(range(12))\n",
    "_ = ax.set_yticklabels(np.array(X_train.columns)[top_12])"
   ]
  },
  {
   "cell_type": "markdown",
   "metadata": {},
   "source": [
    "I would have assumed that the left-right political scale would be the most predictive question, but euthanasia makes sense in retrospect.\n",
    "\n",
    "The second highest predictor, Q45 is really asking whether or not it would be a good thing for society if there was a greater respect for authority. I know I had heard of this as a stereotype for right-wingers in America, I am surprised that this predicts religiosity more than the label of right-wing in the first place.\n",
    "\n",
    "All of these answers are fascinating, and it's satisfying to see my work (while not conclusive) bear fruit that passes the eye test."
   ]
  },
  {
   "cell_type": "markdown",
   "metadata": {},
   "source": [
    "# Weird note that I just had to say:"
   ]
  },
  {
   "cell_type": "markdown",
   "metadata": {},
   "source": [
    "P.S.\n",
    "There is a question in the survey that I can't help but mention. I've been telling all of my friends about it, so if you can, please excuse my lapse into casual commentary.\n",
    "\n",
    "For this question, only 55.2% of people gave a rating of 10 out of 10. \n",
    "\n",
    "What was the question?\n",
    "\n",
    "\"On a scale of 1 to 10, how essential a characteristic of democracy is it that people choose their leaders in free elections\".\n",
    "\n",
    "This means that almost half of all americans surveyed picked a number that was NOT a 10.\n",
    "\n",
    "Oh.. man...\n",
    "Anyway, thank you for making it to the end of my project. I really enjoyed this one."
   ]
  }
 ],
 "metadata": {
  "kernelspec": {
   "display_name": "Python (learn-env)",
   "language": "python",
   "name": "learn-env"
  },
  "language_info": {
   "codemirror_mode": {
    "name": "ipython",
    "version": 3
   },
   "file_extension": ".py",
   "mimetype": "text/x-python",
   "name": "python",
   "nbconvert_exporter": "python",
   "pygments_lexer": "ipython3",
   "version": "3.8.5"
  },
  "toc": {
   "base_numbering": 1,
   "nav_menu": {},
   "number_sections": true,
   "sideBar": true,
   "skip_h1_title": false,
   "title_cell": "Table of Contents",
   "title_sidebar": "Contents",
   "toc_cell": false,
   "toc_position": {},
   "toc_section_display": true,
   "toc_window_display": false
  },
  "varInspector": {
   "cols": {
    "lenName": 16,
    "lenType": 16,
    "lenVar": 40
   },
   "kernels_config": {
    "python": {
     "delete_cmd_postfix": "",
     "delete_cmd_prefix": "del ",
     "library": "var_list.py",
     "varRefreshCmd": "print(var_dic_list())"
    },
    "r": {
     "delete_cmd_postfix": ") ",
     "delete_cmd_prefix": "rm(",
     "library": "var_list.r",
     "varRefreshCmd": "cat(var_dic_list()) "
    }
   },
   "types_to_exclude": [
    "module",
    "function",
    "builtin_function_or_method",
    "instance",
    "_Feature"
   ],
   "window_display": false
  }
 },
 "nbformat": 4,
 "nbformat_minor": 4
}
